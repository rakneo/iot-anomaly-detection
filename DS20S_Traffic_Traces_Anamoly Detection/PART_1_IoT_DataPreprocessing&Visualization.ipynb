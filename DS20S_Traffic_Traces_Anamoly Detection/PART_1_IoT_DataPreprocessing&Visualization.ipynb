{
 "cells": [
  {
   "cell_type": "markdown",
   "metadata": {},
   "source": [
    "# Importing libraries"
   ]
  },
  {
   "cell_type": "code",
   "execution_count": 1,
   "metadata": {},
   "outputs": [],
   "source": [
    "import pandas as pd\n",
    "import numpy as np\n",
    "import seaborn as sns\n",
    "import matplotlib.pyplot as plt\n",
    "from sklearn.preprocessing import LabelEncoder"
   ]
  },
  {
   "cell_type": "markdown",
   "metadata": {},
   "source": [
    "# Reading from dataset"
   ]
  },
  {
   "cell_type": "code",
   "execution_count": 2,
   "metadata": {},
   "outputs": [],
   "source": [
    "df=pd.read_csv('mainSimulationAccessTraces.csv')"
   ]
  },
  {
   "cell_type": "code",
   "execution_count": 3,
   "metadata": {},
   "outputs": [
    {
     "data": {
      "text/plain": [
       "(357952, 13)"
      ]
     },
     "execution_count": 3,
     "metadata": {},
     "output_type": "execute_result"
    }
   ],
   "source": [
    "df.shape"
   ]
  },
  {
   "cell_type": "code",
   "execution_count": 4,
   "metadata": {},
   "outputs": [
    {
     "data": {
      "text/plain": [
       "sourceID                     object\n",
       "sourceAddress                object\n",
       "sourceType                   object\n",
       "sourceLocation               object\n",
       "destinationServiceAddress    object\n",
       "destinationServiceType       object\n",
       "destinationLocation          object\n",
       "accessedNodeAddress          object\n",
       "accessedNodeType             object\n",
       "operation                    object\n",
       "value                        object\n",
       "timestamp                     int64\n",
       "normality                    object\n",
       "dtype: object"
      ]
     },
     "execution_count": 4,
     "metadata": {},
     "output_type": "execute_result"
    }
   ],
   "source": [
    "df.dtypes"
   ]
  },
  {
   "cell_type": "code",
   "execution_count": 5,
   "metadata": {},
   "outputs": [
    {
     "data": {
      "text/plain": [
       "sourceID                        0\n",
       "sourceAddress                   0\n",
       "sourceType                      0\n",
       "sourceLocation                  0\n",
       "destinationServiceAddress       0\n",
       "destinationServiceType          0\n",
       "destinationLocation             0\n",
       "accessedNodeAddress             0\n",
       "accessedNodeType              148\n",
       "operation                       0\n",
       "value                        2050\n",
       "timestamp                       0\n",
       "normality                       0\n",
       "dtype: int64"
      ]
     },
     "execution_count": 5,
     "metadata": {},
     "output_type": "execute_result"
    }
   ],
   "source": [
    "df.isnull().sum()"
   ]
  },
  {
   "cell_type": "code",
   "execution_count": 6,
   "metadata": {
    "scrolled": true
   },
   "outputs": [
    {
     "data": {
      "text/html": [
       "<div>\n",
       "<style scoped>\n",
       "    .dataframe tbody tr th:only-of-type {\n",
       "        vertical-align: middle;\n",
       "    }\n",
       "\n",
       "    .dataframe tbody tr th {\n",
       "        vertical-align: top;\n",
       "    }\n",
       "\n",
       "    .dataframe thead th {\n",
       "        text-align: right;\n",
       "    }\n",
       "</style>\n",
       "<table border=\"1\" class=\"dataframe\">\n",
       "  <thead>\n",
       "    <tr style=\"text-align: right;\">\n",
       "      <th></th>\n",
       "      <th>sourceID</th>\n",
       "      <th>sourceAddress</th>\n",
       "      <th>sourceType</th>\n",
       "      <th>sourceLocation</th>\n",
       "      <th>destinationServiceAddress</th>\n",
       "      <th>destinationServiceType</th>\n",
       "      <th>destinationLocation</th>\n",
       "      <th>accessedNodeAddress</th>\n",
       "      <th>accessedNodeType</th>\n",
       "      <th>operation</th>\n",
       "      <th>value</th>\n",
       "      <th>timestamp</th>\n",
       "      <th>normality</th>\n",
       "    </tr>\n",
       "  </thead>\n",
       "  <tbody>\n",
       "    <tr>\n",
       "      <th>0</th>\n",
       "      <td>lightcontrol2</td>\n",
       "      <td>/agent2/lightcontrol2</td>\n",
       "      <td>/lightControler</td>\n",
       "      <td>BedroomParents</td>\n",
       "      <td>/agent2/lightcontrol2</td>\n",
       "      <td>/lightControler</td>\n",
       "      <td>BedroomParents</td>\n",
       "      <td>/agent2/lightcontrol2</td>\n",
       "      <td>/lightControler</td>\n",
       "      <td>registerService</td>\n",
       "      <td>none</td>\n",
       "      <td>1520031600000</td>\n",
       "      <td>normal</td>\n",
       "    </tr>\n",
       "    <tr>\n",
       "      <th>1</th>\n",
       "      <td>lightcontrol3</td>\n",
       "      <td>/agent3/lightcontrol3</td>\n",
       "      <td>/lightControler</td>\n",
       "      <td>Dinningroom</td>\n",
       "      <td>/agent3/lightcontrol3</td>\n",
       "      <td>/lightControler</td>\n",
       "      <td>Dinningroom</td>\n",
       "      <td>/agent3/lightcontrol3</td>\n",
       "      <td>/lightControler</td>\n",
       "      <td>registerService</td>\n",
       "      <td>none</td>\n",
       "      <td>1520031603269</td>\n",
       "      <td>normal</td>\n",
       "    </tr>\n",
       "    <tr>\n",
       "      <th>2</th>\n",
       "      <td>lightcontrol1</td>\n",
       "      <td>/agent1/lightcontrol1</td>\n",
       "      <td>/lightControler</td>\n",
       "      <td>BedroomChildren</td>\n",
       "      <td>/agent1/lightcontrol1</td>\n",
       "      <td>/lightControler</td>\n",
       "      <td>BedroomChildren</td>\n",
       "      <td>/agent1/lightcontrol1</td>\n",
       "      <td>/lightControler</td>\n",
       "      <td>registerService</td>\n",
       "      <td>none</td>\n",
       "      <td>1520031603279</td>\n",
       "      <td>normal</td>\n",
       "    </tr>\n",
       "    <tr>\n",
       "      <th>3</th>\n",
       "      <td>lightcontrol4</td>\n",
       "      <td>/agent4/lightcontrol4</td>\n",
       "      <td>/lightControler</td>\n",
       "      <td>Kitchen</td>\n",
       "      <td>/agent4/lightcontrol4</td>\n",
       "      <td>/lightControler</td>\n",
       "      <td>Kitchen</td>\n",
       "      <td>/agent4/lightcontrol4</td>\n",
       "      <td>/lightControler</td>\n",
       "      <td>registerService</td>\n",
       "      <td>none</td>\n",
       "      <td>1520031603290</td>\n",
       "      <td>normal</td>\n",
       "    </tr>\n",
       "    <tr>\n",
       "      <th>4</th>\n",
       "      <td>movement4</td>\n",
       "      <td>/agent4/movement4</td>\n",
       "      <td>/movementSensor</td>\n",
       "      <td>Kitchen</td>\n",
       "      <td>/agent4/movement4</td>\n",
       "      <td>/movementSensor</td>\n",
       "      <td>Kitchen</td>\n",
       "      <td>/agent4/movement4</td>\n",
       "      <td>/movementSensor</td>\n",
       "      <td>registerService</td>\n",
       "      <td>none</td>\n",
       "      <td>1520031603464</td>\n",
       "      <td>normal</td>\n",
       "    </tr>\n",
       "    <tr>\n",
       "      <th>5</th>\n",
       "      <td>tempin2</td>\n",
       "      <td>/agent2/tempin2</td>\n",
       "      <td>/sensorService</td>\n",
       "      <td>BedroomParents</td>\n",
       "      <td>/agent2/tempin2</td>\n",
       "      <td>/sensorService</td>\n",
       "      <td>BedroomParents</td>\n",
       "      <td>/agent2/tempin2</td>\n",
       "      <td>/sensorService</td>\n",
       "      <td>registerService</td>\n",
       "      <td>none</td>\n",
       "      <td>1520031603464</td>\n",
       "      <td>normal</td>\n",
       "    </tr>\n",
       "    <tr>\n",
       "      <th>6</th>\n",
       "      <td>movement2</td>\n",
       "      <td>/agent2/movement2</td>\n",
       "      <td>/movementSensor</td>\n",
       "      <td>BedroomParents</td>\n",
       "      <td>/agent2/movement2</td>\n",
       "      <td>/movementSensor</td>\n",
       "      <td>BedroomParents</td>\n",
       "      <td>/agent2/movement2</td>\n",
       "      <td>/movementSensor</td>\n",
       "      <td>registerService</td>\n",
       "      <td>none</td>\n",
       "      <td>1520031603474</td>\n",
       "      <td>normal</td>\n",
       "    </tr>\n",
       "    <tr>\n",
       "      <th>7</th>\n",
       "      <td>tempin4</td>\n",
       "      <td>/agent4/tempin4</td>\n",
       "      <td>/sensorService</td>\n",
       "      <td>Kitchen</td>\n",
       "      <td>/agent4/tempin4</td>\n",
       "      <td>/sensorService</td>\n",
       "      <td>Kitchen</td>\n",
       "      <td>/agent4/tempin4</td>\n",
       "      <td>/sensorService</td>\n",
       "      <td>registerService</td>\n",
       "      <td>none</td>\n",
       "      <td>1520031603474</td>\n",
       "      <td>normal</td>\n",
       "    </tr>\n",
       "    <tr>\n",
       "      <th>8</th>\n",
       "      <td>tempin1</td>\n",
       "      <td>/agent1/tempin1</td>\n",
       "      <td>/sensorService</td>\n",
       "      <td>BedroomChildren</td>\n",
       "      <td>/agent1/tempin1</td>\n",
       "      <td>/sensorService</td>\n",
       "      <td>BedroomChildren</td>\n",
       "      <td>/agent1/tempin1</td>\n",
       "      <td>/sensorService</td>\n",
       "      <td>registerService</td>\n",
       "      <td>none</td>\n",
       "      <td>1520031603484</td>\n",
       "      <td>normal</td>\n",
       "    </tr>\n",
       "    <tr>\n",
       "      <th>9</th>\n",
       "      <td>movement1</td>\n",
       "      <td>/agent1/movement1</td>\n",
       "      <td>/movementSensor</td>\n",
       "      <td>BedroomChildren</td>\n",
       "      <td>/agent1/movement1</td>\n",
       "      <td>/movementSensor</td>\n",
       "      <td>BedroomChildren</td>\n",
       "      <td>/agent1/movement1</td>\n",
       "      <td>/movementSensor</td>\n",
       "      <td>registerService</td>\n",
       "      <td>none</td>\n",
       "      <td>1520031604212</td>\n",
       "      <td>normal</td>\n",
       "    </tr>\n",
       "  </tbody>\n",
       "</table>\n",
       "</div>"
      ],
      "text/plain": [
       "        sourceID          sourceAddress       sourceType   sourceLocation  \\\n",
       "0  lightcontrol2  /agent2/lightcontrol2  /lightControler   BedroomParents   \n",
       "1  lightcontrol3  /agent3/lightcontrol3  /lightControler      Dinningroom   \n",
       "2  lightcontrol1  /agent1/lightcontrol1  /lightControler  BedroomChildren   \n",
       "3  lightcontrol4  /agent4/lightcontrol4  /lightControler          Kitchen   \n",
       "4      movement4      /agent4/movement4  /movementSensor          Kitchen   \n",
       "5        tempin2        /agent2/tempin2   /sensorService   BedroomParents   \n",
       "6      movement2      /agent2/movement2  /movementSensor   BedroomParents   \n",
       "7        tempin4        /agent4/tempin4   /sensorService          Kitchen   \n",
       "8        tempin1        /agent1/tempin1   /sensorService  BedroomChildren   \n",
       "9      movement1      /agent1/movement1  /movementSensor  BedroomChildren   \n",
       "\n",
       "  destinationServiceAddress destinationServiceType destinationLocation  \\\n",
       "0     /agent2/lightcontrol2        /lightControler      BedroomParents   \n",
       "1     /agent3/lightcontrol3        /lightControler         Dinningroom   \n",
       "2     /agent1/lightcontrol1        /lightControler     BedroomChildren   \n",
       "3     /agent4/lightcontrol4        /lightControler             Kitchen   \n",
       "4         /agent4/movement4        /movementSensor             Kitchen   \n",
       "5           /agent2/tempin2         /sensorService      BedroomParents   \n",
       "6         /agent2/movement2        /movementSensor      BedroomParents   \n",
       "7           /agent4/tempin4         /sensorService             Kitchen   \n",
       "8           /agent1/tempin1         /sensorService     BedroomChildren   \n",
       "9         /agent1/movement1        /movementSensor     BedroomChildren   \n",
       "\n",
       "     accessedNodeAddress accessedNodeType        operation value  \\\n",
       "0  /agent2/lightcontrol2  /lightControler  registerService  none   \n",
       "1  /agent3/lightcontrol3  /lightControler  registerService  none   \n",
       "2  /agent1/lightcontrol1  /lightControler  registerService  none   \n",
       "3  /agent4/lightcontrol4  /lightControler  registerService  none   \n",
       "4      /agent4/movement4  /movementSensor  registerService  none   \n",
       "5        /agent2/tempin2   /sensorService  registerService  none   \n",
       "6      /agent2/movement2  /movementSensor  registerService  none   \n",
       "7        /agent4/tempin4   /sensorService  registerService  none   \n",
       "8        /agent1/tempin1   /sensorService  registerService  none   \n",
       "9      /agent1/movement1  /movementSensor  registerService  none   \n",
       "\n",
       "       timestamp normality  \n",
       "0  1520031600000    normal  \n",
       "1  1520031603269    normal  \n",
       "2  1520031603279    normal  \n",
       "3  1520031603290    normal  \n",
       "4  1520031603464    normal  \n",
       "5  1520031603464    normal  \n",
       "6  1520031603474    normal  \n",
       "7  1520031603474    normal  \n",
       "8  1520031603484    normal  \n",
       "9  1520031604212    normal  "
      ]
     },
     "execution_count": 6,
     "metadata": {},
     "output_type": "execute_result"
    }
   ],
   "source": [
    "df.head(10)"
   ]
  },
  {
   "cell_type": "markdown",
   "metadata": {},
   "source": [
    "# Data Preprocessing"
   ]
  },
  {
   "cell_type": "code",
   "execution_count": 7,
   "metadata": {},
   "outputs": [],
   "source": [
    "df['accessedNodeType'] = df['accessedNodeType'].fillna(value='/Malicious')"
   ]
  },
  {
   "cell_type": "code",
   "execution_count": 8,
   "metadata": {},
   "outputs": [],
   "source": [
    "df['value'].fillna(value='30.0',inplace=True)\n",
    "df.loc[df['value']=='FALSE',\"value\"] = '0.0'\n",
    "df.loc[df['value']=='false',\"value\"] = '0.0'\n",
    "df.loc[df['value']=='TRUE',\"value\"] = '1.0'\n",
    "df.loc[df['value']=='true',\"value\"] = '1.0'\n",
    "df.loc[df['value']=='twenty',\"value\"] = '20.0'\n",
    "df.loc[df['value']=='none',\"value\"] = '0.0'\n",
    "df.loc[df['value']=='0',\"value\"]='0.0'"
   ]
  },
  {
   "cell_type": "code",
   "execution_count": 9,
   "metadata": {},
   "outputs": [
    {
     "data": {
      "text/html": [
       "<div>\n",
       "<style scoped>\n",
       "    .dataframe tbody tr th:only-of-type {\n",
       "        vertical-align: middle;\n",
       "    }\n",
       "\n",
       "    .dataframe tbody tr th {\n",
       "        vertical-align: top;\n",
       "    }\n",
       "\n",
       "    .dataframe thead th {\n",
       "        text-align: right;\n",
       "    }\n",
       "</style>\n",
       "<table border=\"1\" class=\"dataframe\">\n",
       "  <thead>\n",
       "    <tr style=\"text-align: right;\">\n",
       "      <th></th>\n",
       "      <th>sourceID</th>\n",
       "      <th>sourceAddress</th>\n",
       "      <th>sourceType</th>\n",
       "      <th>sourceLocation</th>\n",
       "      <th>destinationServiceAddress</th>\n",
       "      <th>destinationServiceType</th>\n",
       "      <th>destinationLocation</th>\n",
       "      <th>accessedNodeAddress</th>\n",
       "      <th>accessedNodeType</th>\n",
       "      <th>operation</th>\n",
       "      <th>value</th>\n",
       "      <th>timestamp</th>\n",
       "      <th>normality</th>\n",
       "    </tr>\n",
       "  </thead>\n",
       "  <tbody>\n",
       "    <tr>\n",
       "      <th>0</th>\n",
       "      <td>lightcontrol2</td>\n",
       "      <td>/agent2/lightcontrol2</td>\n",
       "      <td>/lightControler</td>\n",
       "      <td>BedroomParents</td>\n",
       "      <td>/agent2/lightcontrol2</td>\n",
       "      <td>/lightControler</td>\n",
       "      <td>BedroomParents</td>\n",
       "      <td>/agent2/lightcontrol2</td>\n",
       "      <td>/lightControler</td>\n",
       "      <td>registerService</td>\n",
       "      <td>0.0</td>\n",
       "      <td>1520031600000</td>\n",
       "      <td>normal</td>\n",
       "    </tr>\n",
       "    <tr>\n",
       "      <th>1</th>\n",
       "      <td>lightcontrol3</td>\n",
       "      <td>/agent3/lightcontrol3</td>\n",
       "      <td>/lightControler</td>\n",
       "      <td>Dinningroom</td>\n",
       "      <td>/agent3/lightcontrol3</td>\n",
       "      <td>/lightControler</td>\n",
       "      <td>Dinningroom</td>\n",
       "      <td>/agent3/lightcontrol3</td>\n",
       "      <td>/lightControler</td>\n",
       "      <td>registerService</td>\n",
       "      <td>0.0</td>\n",
       "      <td>1520031603269</td>\n",
       "      <td>normal</td>\n",
       "    </tr>\n",
       "    <tr>\n",
       "      <th>2</th>\n",
       "      <td>lightcontrol1</td>\n",
       "      <td>/agent1/lightcontrol1</td>\n",
       "      <td>/lightControler</td>\n",
       "      <td>BedroomChildren</td>\n",
       "      <td>/agent1/lightcontrol1</td>\n",
       "      <td>/lightControler</td>\n",
       "      <td>BedroomChildren</td>\n",
       "      <td>/agent1/lightcontrol1</td>\n",
       "      <td>/lightControler</td>\n",
       "      <td>registerService</td>\n",
       "      <td>0.0</td>\n",
       "      <td>1520031603279</td>\n",
       "      <td>normal</td>\n",
       "    </tr>\n",
       "    <tr>\n",
       "      <th>3</th>\n",
       "      <td>lightcontrol4</td>\n",
       "      <td>/agent4/lightcontrol4</td>\n",
       "      <td>/lightControler</td>\n",
       "      <td>Kitchen</td>\n",
       "      <td>/agent4/lightcontrol4</td>\n",
       "      <td>/lightControler</td>\n",
       "      <td>Kitchen</td>\n",
       "      <td>/agent4/lightcontrol4</td>\n",
       "      <td>/lightControler</td>\n",
       "      <td>registerService</td>\n",
       "      <td>0.0</td>\n",
       "      <td>1520031603290</td>\n",
       "      <td>normal</td>\n",
       "    </tr>\n",
       "    <tr>\n",
       "      <th>4</th>\n",
       "      <td>movement4</td>\n",
       "      <td>/agent4/movement4</td>\n",
       "      <td>/movementSensor</td>\n",
       "      <td>Kitchen</td>\n",
       "      <td>/agent4/movement4</td>\n",
       "      <td>/movementSensor</td>\n",
       "      <td>Kitchen</td>\n",
       "      <td>/agent4/movement4</td>\n",
       "      <td>/movementSensor</td>\n",
       "      <td>registerService</td>\n",
       "      <td>0.0</td>\n",
       "      <td>1520031603464</td>\n",
       "      <td>normal</td>\n",
       "    </tr>\n",
       "    <tr>\n",
       "      <th>5</th>\n",
       "      <td>tempin2</td>\n",
       "      <td>/agent2/tempin2</td>\n",
       "      <td>/sensorService</td>\n",
       "      <td>BedroomParents</td>\n",
       "      <td>/agent2/tempin2</td>\n",
       "      <td>/sensorService</td>\n",
       "      <td>BedroomParents</td>\n",
       "      <td>/agent2/tempin2</td>\n",
       "      <td>/sensorService</td>\n",
       "      <td>registerService</td>\n",
       "      <td>0.0</td>\n",
       "      <td>1520031603464</td>\n",
       "      <td>normal</td>\n",
       "    </tr>\n",
       "    <tr>\n",
       "      <th>6</th>\n",
       "      <td>movement2</td>\n",
       "      <td>/agent2/movement2</td>\n",
       "      <td>/movementSensor</td>\n",
       "      <td>BedroomParents</td>\n",
       "      <td>/agent2/movement2</td>\n",
       "      <td>/movementSensor</td>\n",
       "      <td>BedroomParents</td>\n",
       "      <td>/agent2/movement2</td>\n",
       "      <td>/movementSensor</td>\n",
       "      <td>registerService</td>\n",
       "      <td>0.0</td>\n",
       "      <td>1520031603474</td>\n",
       "      <td>normal</td>\n",
       "    </tr>\n",
       "    <tr>\n",
       "      <th>7</th>\n",
       "      <td>tempin4</td>\n",
       "      <td>/agent4/tempin4</td>\n",
       "      <td>/sensorService</td>\n",
       "      <td>Kitchen</td>\n",
       "      <td>/agent4/tempin4</td>\n",
       "      <td>/sensorService</td>\n",
       "      <td>Kitchen</td>\n",
       "      <td>/agent4/tempin4</td>\n",
       "      <td>/sensorService</td>\n",
       "      <td>registerService</td>\n",
       "      <td>0.0</td>\n",
       "      <td>1520031603474</td>\n",
       "      <td>normal</td>\n",
       "    </tr>\n",
       "    <tr>\n",
       "      <th>8</th>\n",
       "      <td>tempin1</td>\n",
       "      <td>/agent1/tempin1</td>\n",
       "      <td>/sensorService</td>\n",
       "      <td>BedroomChildren</td>\n",
       "      <td>/agent1/tempin1</td>\n",
       "      <td>/sensorService</td>\n",
       "      <td>BedroomChildren</td>\n",
       "      <td>/agent1/tempin1</td>\n",
       "      <td>/sensorService</td>\n",
       "      <td>registerService</td>\n",
       "      <td>0.0</td>\n",
       "      <td>1520031603484</td>\n",
       "      <td>normal</td>\n",
       "    </tr>\n",
       "    <tr>\n",
       "      <th>9</th>\n",
       "      <td>movement1</td>\n",
       "      <td>/agent1/movement1</td>\n",
       "      <td>/movementSensor</td>\n",
       "      <td>BedroomChildren</td>\n",
       "      <td>/agent1/movement1</td>\n",
       "      <td>/movementSensor</td>\n",
       "      <td>BedroomChildren</td>\n",
       "      <td>/agent1/movement1</td>\n",
       "      <td>/movementSensor</td>\n",
       "      <td>registerService</td>\n",
       "      <td>0.0</td>\n",
       "      <td>1520031604212</td>\n",
       "      <td>normal</td>\n",
       "    </tr>\n",
       "  </tbody>\n",
       "</table>\n",
       "</div>"
      ],
      "text/plain": [
       "        sourceID          sourceAddress       sourceType   sourceLocation  \\\n",
       "0  lightcontrol2  /agent2/lightcontrol2  /lightControler   BedroomParents   \n",
       "1  lightcontrol3  /agent3/lightcontrol3  /lightControler      Dinningroom   \n",
       "2  lightcontrol1  /agent1/lightcontrol1  /lightControler  BedroomChildren   \n",
       "3  lightcontrol4  /agent4/lightcontrol4  /lightControler          Kitchen   \n",
       "4      movement4      /agent4/movement4  /movementSensor          Kitchen   \n",
       "5        tempin2        /agent2/tempin2   /sensorService   BedroomParents   \n",
       "6      movement2      /agent2/movement2  /movementSensor   BedroomParents   \n",
       "7        tempin4        /agent4/tempin4   /sensorService          Kitchen   \n",
       "8        tempin1        /agent1/tempin1   /sensorService  BedroomChildren   \n",
       "9      movement1      /agent1/movement1  /movementSensor  BedroomChildren   \n",
       "\n",
       "  destinationServiceAddress destinationServiceType destinationLocation  \\\n",
       "0     /agent2/lightcontrol2        /lightControler      BedroomParents   \n",
       "1     /agent3/lightcontrol3        /lightControler         Dinningroom   \n",
       "2     /agent1/lightcontrol1        /lightControler     BedroomChildren   \n",
       "3     /agent4/lightcontrol4        /lightControler             Kitchen   \n",
       "4         /agent4/movement4        /movementSensor             Kitchen   \n",
       "5           /agent2/tempin2         /sensorService      BedroomParents   \n",
       "6         /agent2/movement2        /movementSensor      BedroomParents   \n",
       "7           /agent4/tempin4         /sensorService             Kitchen   \n",
       "8           /agent1/tempin1         /sensorService     BedroomChildren   \n",
       "9         /agent1/movement1        /movementSensor     BedroomChildren   \n",
       "\n",
       "     accessedNodeAddress accessedNodeType        operation value  \\\n",
       "0  /agent2/lightcontrol2  /lightControler  registerService   0.0   \n",
       "1  /agent3/lightcontrol3  /lightControler  registerService   0.0   \n",
       "2  /agent1/lightcontrol1  /lightControler  registerService   0.0   \n",
       "3  /agent4/lightcontrol4  /lightControler  registerService   0.0   \n",
       "4      /agent4/movement4  /movementSensor  registerService   0.0   \n",
       "5        /agent2/tempin2   /sensorService  registerService   0.0   \n",
       "6      /agent2/movement2  /movementSensor  registerService   0.0   \n",
       "7        /agent4/tempin4   /sensorService  registerService   0.0   \n",
       "8        /agent1/tempin1   /sensorService  registerService   0.0   \n",
       "9      /agent1/movement1  /movementSensor  registerService   0.0   \n",
       "\n",
       "       timestamp normality  \n",
       "0  1520031600000    normal  \n",
       "1  1520031603269    normal  \n",
       "2  1520031603279    normal  \n",
       "3  1520031603290    normal  \n",
       "4  1520031603464    normal  \n",
       "5  1520031603464    normal  \n",
       "6  1520031603474    normal  \n",
       "7  1520031603474    normal  \n",
       "8  1520031603484    normal  \n",
       "9  1520031604212    normal  "
      ]
     },
     "execution_count": 9,
     "metadata": {},
     "output_type": "execute_result"
    }
   ],
   "source": [
    "df.head(10)"
   ]
  },
  {
   "cell_type": "code",
   "execution_count": 10,
   "metadata": {},
   "outputs": [
    {
     "data": {
      "text/plain": [
       "(357952, 13)"
      ]
     },
     "execution_count": 10,
     "metadata": {},
     "output_type": "execute_result"
    }
   ],
   "source": [
    "df.shape"
   ]
  },
  {
   "cell_type": "code",
   "execution_count": 11,
   "metadata": {},
   "outputs": [],
   "source": [
    "df = df.drop(df.index[df['value'].str.contains(\"org.*\")])\n"
   ]
  },
  {
   "cell_type": "code",
   "execution_count": 12,
   "metadata": {},
   "outputs": [],
   "source": [
    "df['value'] = pd.to_numeric(df['value'],downcast=\"float\")"
   ]
  },
  {
   "cell_type": "code",
   "execution_count": 13,
   "metadata": {},
   "outputs": [
    {
     "data": {
      "text/plain": [
       "sourceID                      object\n",
       "sourceAddress                 object\n",
       "sourceType                    object\n",
       "sourceLocation                object\n",
       "destinationServiceAddress     object\n",
       "destinationServiceType        object\n",
       "destinationLocation           object\n",
       "accessedNodeAddress           object\n",
       "accessedNodeType              object\n",
       "operation                     object\n",
       "value                        float32\n",
       "timestamp                      int64\n",
       "normality                     object\n",
       "dtype: object"
      ]
     },
     "execution_count": 13,
     "metadata": {},
     "output_type": "execute_result"
    }
   ],
   "source": [
    "df.dtypes"
   ]
  },
  {
   "cell_type": "code",
   "execution_count": 14,
   "metadata": {},
   "outputs": [
    {
     "data": {
      "text/plain": [
       "sourceID                      object\n",
       "sourceAddress                 object\n",
       "sourceType                    object\n",
       "sourceLocation                object\n",
       "destinationServiceAddress     object\n",
       "destinationServiceType        object\n",
       "destinationLocation           object\n",
       "accessedNodeAddress           object\n",
       "accessedNodeType              object\n",
       "operation                     object\n",
       "value                        float32\n",
       "timestamp                      int64\n",
       "normality                     object\n",
       "dtype: object"
      ]
     },
     "execution_count": 14,
     "metadata": {},
     "output_type": "execute_result"
    }
   ],
   "source": [
    "df.dtypes"
   ]
  },
  {
   "cell_type": "code",
   "execution_count": 15,
   "metadata": {},
   "outputs": [],
   "source": [
    "df.drop(['timestamp'],axis=1,inplace=True)"
   ]
  },
  {
   "cell_type": "markdown",
   "metadata": {},
   "source": [
    "# Frequency visualization"
   ]
  },
  {
   "cell_type": "markdown",
   "metadata": {},
   "source": [
    "1.Source Type"
   ]
  },
  {
   "cell_type": "code",
   "execution_count": 16,
   "metadata": {},
   "outputs": [
    {
     "data": {
      "image/png": "[encoded data removed]",
      "text/plain": [
       "<Figure size 864x576 with 1 Axes>"
      ]
     },
     "metadata": {
      "needs_background": "light"
     },
     "output_type": "display_data"
    }
   ],
   "source": [
    "plt.figure(figsize=(12,8))\n",
    "sns.countplot(x ='sourceType', data = df)\n",
    "plt.title('PLOT 1')\n",
    "plt.xlabel('Source Type')\n",
    "plt.xticks(rotation=90)\n",
    "plt.ylabel('Number of Occurrences')\n",
    "plt.show()"
   ]
  },
  {
   "cell_type": "code",
   "execution_count": 17,
   "metadata": {
    "scrolled": true
   },
   "outputs": [
    {
     "name": "stdout",
     "output_type": "stream",
     "text": [
      "/lightControler 135775\n",
      "/sensorService 85196\n",
      "/batteryService 81267\n",
      "/washingService 47986\n",
      "/thermostat 5980\n",
      "/movementSensor 1301\n",
      "/doorLockService 330\n",
      "/smartPhone 106\n"
     ]
    }
   ],
   "source": [
    "tmp1 = df['sourceType'].value_counts()\n",
    "for i,j in zip(tmp1.index,tmp1.values):\n",
    "    print(i,j)\n"
   ]
  },
  {
   "cell_type": "markdown",
   "metadata": {},
   "source": [
    "2.destinationServiceType"
   ]
  },
  {
   "cell_type": "code",
   "execution_count": 18,
   "metadata": {},
   "outputs": [
    {
     "data": {
      "image/png": "[encoded data removed]",
      "text/plain": [
       "<Figure size 864x576 with 1 Axes>"
      ]
     },
     "metadata": {
      "needs_background": "light"
     },
     "output_type": "display_data"
    }
   ],
   "source": [
    "plt.figure(figsize=(12,8))\n",
    "sns.countplot(x ='destinationServiceType', data = df)\n",
    "plt.title('PLOT 2')\n",
    "plt.xlabel('Destination Type')\n",
    "plt.xticks(rotation=90)\n",
    "plt.ylabel('Number of Occurrences')\n",
    "plt.show()"
   ]
  },
  {
   "cell_type": "code",
   "execution_count": 19,
   "metadata": {},
   "outputs": [
    {
     "name": "stdout",
     "output_type": "stream",
     "text": [
      "/sensorService 130313\n",
      "/batteryService 129119\n",
      "/movementSensor 93645\n",
      "/washingService 1805\n",
      "/lightControler 1694\n",
      "/doorLockService 1043\n",
      "/thermostat 319\n",
      "/smartPhone 3\n"
     ]
    }
   ],
   "source": [
    "tmp1 = df['destinationServiceType'].value_counts()\n",
    "for i,j in zip(tmp1.index,tmp1.values):\n",
    "    print(i,j)"
   ]
  },
  {
   "cell_type": "markdown",
   "metadata": {},
   "source": [
    "3.sourceLocation"
   ]
  },
  {
   "cell_type": "code",
   "execution_count": 26,
   "metadata": {},
   "outputs": [
    {
     "data": {
      "image/png": "[encoded data removed]",
      "text/plain": [
       "<Figure size 864x576 with 1 Axes>"
      ]
     },
     "metadata": {
      "needs_background": "light"
     },
     "output_type": "display_data"
    }
   ],
   "source": [
    "plt.figure(figsize=(12,8))\n",
    "sns.countplot(x ='sourceLocation', data = df)\n",
    "plt.title('PLOT 3')\n",
    "plt.xlabel('Source Location')\n",
    "plt.xticks(rotation=90)\n",
    "plt.ylabel('Number of Occurrences')\n",
    "plt.show()"
   ]
  },
  {
   "cell_type": "code",
   "execution_count": 21,
   "metadata": {},
   "outputs": [
    {
     "name": "stdout",
     "output_type": "stream",
     "text": [
      "Garage 39499\n",
      "Watterroom 38368\n",
      "Entrance 38217\n",
      "Bathroom 28461\n",
      "Showerroom 28315\n",
      "Kitchen 18962\n",
      "Dinningroom 13429\n",
      "BedroomChildren 12836\n",
      "room_6 11642\n",
      "Bedroom 11009\n",
      "BedroomParents 10946\n",
      "room_8 10798\n",
      "room_9 10752\n",
      "Livingroom 10620\n",
      "room_2 10606\n",
      "room_1 10601\n",
      "room_3 10597\n",
      "room_5 10596\n",
      "room_4 10572\n",
      "room_7 10558\n",
      "room_10 10557\n"
     ]
    }
   ],
   "source": [
    "tmp1 = df['sourceLocation'].value_counts()\n",
    "for i,j in zip(tmp1.index,tmp1.values):\n",
    "    print(i,j)"
   ]
  },
  {
   "cell_type": "markdown",
   "metadata": {},
   "source": [
    "4.destinationLocation"
   ]
  },
  {
   "cell_type": "code",
   "execution_count": 22,
   "metadata": {},
   "outputs": [
    {
     "data": {
      "image/png": "[encoded data removed]",
      "text/plain": [
       "<Figure size 864x576 with 1 Axes>"
      ]
     },
     "metadata": {
      "needs_background": "light"
     },
     "output_type": "display_data"
    }
   ],
   "source": [
    "plt.figure(figsize=(12,8))\n",
    "sns.countplot(x ='destinationLocation', data = df)\n",
    "plt.title('PLOT 4')\n",
    "plt.xlabel('Destination Location')\n",
    "plt.xticks(rotation=90)\n",
    "plt.ylabel('Number of Occurrences')\n",
    "plt.show()"
   ]
  },
  {
   "cell_type": "code",
   "execution_count": 23,
   "metadata": {},
   "outputs": [
    {
     "name": "stdout",
     "output_type": "stream",
     "text": [
      "Garage 57100\n",
      "Entrance 54448\n",
      "Watterroom 38524\n",
      "Kitchen 19437\n",
      "BedroomChildren 12768\n",
      "Bathroom 12684\n",
      "Showerroom 12583\n",
      "BedroomParents 10938\n",
      "room_9 10843\n",
      "room_2 10828\n",
      "room_1 10805\n",
      "Livingroom 10781\n",
      "Dinningroom 10759\n",
      "room_6 10741\n",
      "room_3 10732\n",
      "room_4 10708\n",
      "room_5 10687\n",
      "room_8 10651\n",
      "room_7 10649\n",
      "room_10 10648\n",
      "Bedroom 10627\n"
     ]
    }
   ],
   "source": [
    "tmp1 = df['destinationLocation'].value_counts()\n",
    "for i,j in zip(tmp1.index,tmp1.values):\n",
    "    print(i,j)"
   ]
  },
  {
   "cell_type": "markdown",
   "metadata": {},
   "source": [
    "5.Accessed Node"
   ]
  },
  {
   "cell_type": "code",
   "execution_count": 24,
   "metadata": {},
   "outputs": [
    {
     "data": {
      "image/png": "[encoded data removed]",
      "text/plain": [
       "<Figure size 864x576 with 1 Axes>"
      ]
     },
     "metadata": {
      "needs_background": "light"
     },
     "output_type": "display_data"
    }
   ],
   "source": [
    "plt.figure(figsize=(12,8))\n",
    "sns.countplot(x ='accessedNodeType', data = df)\n",
    "plt.title('PLOT 5')\n",
    "plt.xlabel('Accessed Node')\n",
    "plt.xticks(rotation=90)\n",
    "plt.ylabel('Number of Occurrences')\n",
    "plt.show()"
   ]
  },
  {
   "cell_type": "code",
   "execution_count": 25,
   "metadata": {},
   "outputs": [
    {
     "name": "stdout",
     "output_type": "stream",
     "text": [
      "/sensorService 130155\n",
      "/derived/boolean 94725\n",
      "/basic/number 90010\n",
      "/basic/text 42428\n",
      "/thermostat 313\n",
      "/Malicious 148\n",
      "/basic/composed 100\n",
      "/lightControler 23\n",
      "/movementSensor 22\n",
      "/batteryService 6\n",
      "/doorLockService 5\n",
      "/washingService 3\n",
      "/smartPhone 3\n"
     ]
    }
   ],
   "source": [
    "tmp1 = df['accessedNodeType'].value_counts()\n",
    "for i,j in zip(tmp1.index,tmp1.values):\n",
    "    print(i,j)"
   ]
  },
  {
   "cell_type": "markdown",
   "metadata": {},
   "source": [
    "6.operation"
   ]
  },
  {
   "cell_type": "code",
   "execution_count": 27,
   "metadata": {},
   "outputs": [
    {
     "data": {
      "image/png": "[encoded data removed]",
      "text/plain": [
       "<Figure size 864x576 with 1 Axes>"
      ]
     },
     "metadata": {
      "needs_background": "light"
     },
     "output_type": "display_data"
    }
   ],
   "source": [
    "plt.figure(figsize=(12,8))\n",
    "sns.countplot(x ='operation', data = df)\n",
    "plt.title('PLOT 6')\n",
    "plt.xlabel('Operation')\n",
    "plt.xticks(rotation=90)\n",
    "plt.ylabel('Number of Occurrences')\n",
    "plt.show()"
   ]
  },
  {
   "cell_type": "code",
   "execution_count": 28,
   "metadata": {},
   "outputs": [
    {
     "name": "stdout",
     "output_type": "stream",
     "text": [
      "read 248061\n",
      "write 109648\n",
      "lockSubtree 148\n",
      "registerService 84\n"
     ]
    }
   ],
   "source": [
    "tmp1 = df['operation'].value_counts()\n",
    "for i,j in zip(tmp1.index,tmp1.values):\n",
    "    print(i,j)"
   ]
  },
  {
   "cell_type": "markdown",
   "metadata": {},
   "source": [
    "7.normality"
   ]
  },
  {
   "cell_type": "code",
   "execution_count": 29,
   "metadata": {},
   "outputs": [
    {
     "data": {
      "image/png": "[encoded data removed]",
      "text/plain": [
       "<Figure size 864x576 with 1 Axes>"
      ]
     },
     "metadata": {
      "needs_background": "light"
     },
     "output_type": "display_data"
    }
   ],
   "source": [
    "plt.figure(figsize=(12,8))\n",
    "sns.countplot(x ='normality', data = df)\n",
    "plt.title('PLOT 7')\n",
    "plt.xlabel('Normality')\n",
    "plt.xticks(rotation=90)\n",
    "plt.ylabel('Number of Occurrences')\n",
    "plt.show()"
   ]
  },
  {
   "cell_type": "code",
   "execution_count": 31,
   "metadata": {},
   "outputs": [
    {
     "name": "stdout",
     "output_type": "stream",
     "text": [
      "normal 347924\n",
      "anomalous(DoSattack) 5780\n",
      "anomalous(scan) 1547\n",
      "anomalous(malitiousControl) 889\n",
      "anomalous(malitiousOperation) 805\n",
      "anomalous(spying) 532\n",
      "anomalous(dataProbing) 342\n",
      "anomalous(wrongSetUp) 122\n"
     ]
    }
   ],
   "source": [
    "tmp1 = df['normality'].value_counts()\n",
    "for i,j in zip(tmp1.index,tmp1.values):\n",
    "    print(i,j)"
   ]
  },
  {
   "cell_type": "markdown",
   "metadata": {},
   "source": [
    "# Label encoding of dataset"
   ]
  },
  {
   "cell_type": "code",
   "execution_count": 32,
   "metadata": {},
   "outputs": [
    {
     "data": {
      "text/html": [
       "<div>\n",
       "<style scoped>\n",
       "    .dataframe tbody tr th:only-of-type {\n",
       "        vertical-align: middle;\n",
       "    }\n",
       "\n",
       "    .dataframe tbody tr th {\n",
       "        vertical-align: top;\n",
       "    }\n",
       "\n",
       "    .dataframe thead th {\n",
       "        text-align: right;\n",
       "    }\n",
       "</style>\n",
       "<table border=\"1\" class=\"dataframe\">\n",
       "  <thead>\n",
       "    <tr style=\"text-align: right;\">\n",
       "      <th></th>\n",
       "      <th>sourceID</th>\n",
       "      <th>sourceAddress</th>\n",
       "      <th>sourceType</th>\n",
       "      <th>sourceLocation</th>\n",
       "      <th>destinationServiceAddress</th>\n",
       "      <th>destinationServiceType</th>\n",
       "      <th>destinationLocation</th>\n",
       "      <th>accessedNodeAddress</th>\n",
       "      <th>accessedNodeType</th>\n",
       "      <th>operation</th>\n",
       "      <th>value</th>\n",
       "      <th>normality</th>\n",
       "    </tr>\n",
       "  </thead>\n",
       "  <tbody>\n",
       "    <tr>\n",
       "      <th>0</th>\n",
       "      <td>lightcontrol2</td>\n",
       "      <td>/agent2/lightcontrol2</td>\n",
       "      <td>/lightControler</td>\n",
       "      <td>BedroomParents</td>\n",
       "      <td>/agent2/lightcontrol2</td>\n",
       "      <td>/lightControler</td>\n",
       "      <td>BedroomParents</td>\n",
       "      <td>/agent2/lightcontrol2</td>\n",
       "      <td>/lightControler</td>\n",
       "      <td>registerService</td>\n",
       "      <td>0.0</td>\n",
       "      <td>normal</td>\n",
       "    </tr>\n",
       "    <tr>\n",
       "      <th>1</th>\n",
       "      <td>lightcontrol3</td>\n",
       "      <td>/agent3/lightcontrol3</td>\n",
       "      <td>/lightControler</td>\n",
       "      <td>Dinningroom</td>\n",
       "      <td>/agent3/lightcontrol3</td>\n",
       "      <td>/lightControler</td>\n",
       "      <td>Dinningroom</td>\n",
       "      <td>/agent3/lightcontrol3</td>\n",
       "      <td>/lightControler</td>\n",
       "      <td>registerService</td>\n",
       "      <td>0.0</td>\n",
       "      <td>normal</td>\n",
       "    </tr>\n",
       "    <tr>\n",
       "      <th>2</th>\n",
       "      <td>lightcontrol1</td>\n",
       "      <td>/agent1/lightcontrol1</td>\n",
       "      <td>/lightControler</td>\n",
       "      <td>BedroomChildren</td>\n",
       "      <td>/agent1/lightcontrol1</td>\n",
       "      <td>/lightControler</td>\n",
       "      <td>BedroomChildren</td>\n",
       "      <td>/agent1/lightcontrol1</td>\n",
       "      <td>/lightControler</td>\n",
       "      <td>registerService</td>\n",
       "      <td>0.0</td>\n",
       "      <td>normal</td>\n",
       "    </tr>\n",
       "    <tr>\n",
       "      <th>3</th>\n",
       "      <td>lightcontrol4</td>\n",
       "      <td>/agent4/lightcontrol4</td>\n",
       "      <td>/lightControler</td>\n",
       "      <td>Kitchen</td>\n",
       "      <td>/agent4/lightcontrol4</td>\n",
       "      <td>/lightControler</td>\n",
       "      <td>Kitchen</td>\n",
       "      <td>/agent4/lightcontrol4</td>\n",
       "      <td>/lightControler</td>\n",
       "      <td>registerService</td>\n",
       "      <td>0.0</td>\n",
       "      <td>normal</td>\n",
       "    </tr>\n",
       "    <tr>\n",
       "      <th>4</th>\n",
       "      <td>movement4</td>\n",
       "      <td>/agent4/movement4</td>\n",
       "      <td>/movementSensor</td>\n",
       "      <td>Kitchen</td>\n",
       "      <td>/agent4/movement4</td>\n",
       "      <td>/movementSensor</td>\n",
       "      <td>Kitchen</td>\n",
       "      <td>/agent4/movement4</td>\n",
       "      <td>/movementSensor</td>\n",
       "      <td>registerService</td>\n",
       "      <td>0.0</td>\n",
       "      <td>normal</td>\n",
       "    </tr>\n",
       "  </tbody>\n",
       "</table>\n",
       "</div>"
      ],
      "text/plain": [
       "        sourceID          sourceAddress       sourceType   sourceLocation  \\\n",
       "0  lightcontrol2  /agent2/lightcontrol2  /lightControler   BedroomParents   \n",
       "1  lightcontrol3  /agent3/lightcontrol3  /lightControler      Dinningroom   \n",
       "2  lightcontrol1  /agent1/lightcontrol1  /lightControler  BedroomChildren   \n",
       "3  lightcontrol4  /agent4/lightcontrol4  /lightControler          Kitchen   \n",
       "4      movement4      /agent4/movement4  /movementSensor          Kitchen   \n",
       "\n",
       "  destinationServiceAddress destinationServiceType destinationLocation  \\\n",
       "0     /agent2/lightcontrol2        /lightControler      BedroomParents   \n",
       "1     /agent3/lightcontrol3        /lightControler         Dinningroom   \n",
       "2     /agent1/lightcontrol1        /lightControler     BedroomChildren   \n",
       "3     /agent4/lightcontrol4        /lightControler             Kitchen   \n",
       "4         /agent4/movement4        /movementSensor             Kitchen   \n",
       "\n",
       "     accessedNodeAddress accessedNodeType        operation  value normality  \n",
       "0  /agent2/lightcontrol2  /lightControler  registerService    0.0    normal  \n",
       "1  /agent3/lightcontrol3  /lightControler  registerService    0.0    normal  \n",
       "2  /agent1/lightcontrol1  /lightControler  registerService    0.0    normal  \n",
       "3  /agent4/lightcontrol4  /lightControler  registerService    0.0    normal  \n",
       "4      /agent4/movement4  /movementSensor  registerService    0.0    normal  "
      ]
     },
     "execution_count": 32,
     "metadata": {},
     "output_type": "execute_result"
    }
   ],
   "source": [
    "df.head()"
   ]
  },
  {
   "cell_type": "code",
   "execution_count": 33,
   "metadata": {},
   "outputs": [],
   "source": [
    "dff=df"
   ]
  },
  {
   "cell_type": "code",
   "execution_count": 34,
   "metadata": {},
   "outputs": [],
   "source": [
    "le0 = LabelEncoder()\n",
    "le1 = LabelEncoder()\n",
    "le2 = LabelEncoder()\n",
    "le3 = LabelEncoder()\n",
    "le4 = LabelEncoder()\n",
    "le5 = LabelEncoder()\n",
    "le6 = LabelEncoder()\n",
    "le7 = LabelEncoder()\n",
    "le8 = LabelEncoder()\n",
    "le9 = LabelEncoder()\n",
    "le10 = LabelEncoder()\n",
    "le11 = LabelEncoder()"
   ]
  },
  {
   "cell_type": "code",
   "execution_count": 35,
   "metadata": {},
   "outputs": [],
   "source": [
    "a0 = dff.iloc[:,0].values\n",
    "a1 = dff.iloc[:,1].values\n",
    "a2 = dff.iloc[:,2].values\n",
    "a3 = dff.iloc[:,3].values\n",
    "a4 = dff.iloc[:,4].values\n",
    "a5 = dff.iloc[:,5].values\n",
    "a6 = dff.iloc[:,6].values\n",
    "a7 = dff.iloc[:,7].values\n",
    "a8 = dff.iloc[:,8].values\n",
    "a9 = dff.iloc[:,9].values\n",
    "a10 = dff.iloc[:,10].values\n",
    "a11 = dff.iloc[:,11].values"
   ]
  },
  {
   "cell_type": "code",
   "execution_count": 36,
   "metadata": {},
   "outputs": [],
   "source": [
    "b0 = le0.fit_transform(a0)\n",
    "b0 = b0.reshape(len(b0),1)\n",
    "b1 = le1.fit_transform(a1)\n",
    "b1 = b1.reshape(len(b1),1)\n",
    "b2 = le2.fit_transform(a2)\n",
    "b2 = b2.reshape(len(b2),1)\n",
    "b3 = le3.fit_transform(a3)\n",
    "b3 = b3.reshape(len(b3),1)\n",
    "b4 = le4.fit_transform(a4)\n",
    "b4 = b4.reshape(len(b4),1)\n",
    "b5 = le5.fit_transform(a5)\n",
    "b5 = b5.reshape(len(b5),1)\n",
    "b6 = le6.fit_transform(a6)\n",
    "b6 = b6.reshape(len(b6),1)\n",
    "b7 = le7.fit_transform(a7)\n",
    "b7 = b7.reshape(len(b7),1)\n",
    "b8 = le8.fit_transform(a8)\n",
    "b8 = b8.reshape(len(b8),1)\n",
    "b9 = le9.fit_transform(a9)\n",
    "b9 = b9.reshape(len(b9),1)\n",
    "b10 = le10.fit_transform(a10)\n",
    "b10 = b10.reshape(len(b10),1)\n",
    "b11 = le11.fit_transform(a11)\n",
    "b11 = b11.reshape(len(b11),1)"
   ]
  },
  {
   "cell_type": "code",
   "execution_count": 37,
   "metadata": {},
   "outputs": [],
   "source": [
    "ls1 = np.concatenate((b11,b0,b1,b2,b3,b4,b5,b6,b7,b8,b9,b10),axis=1)"
   ]
  },
  {
   "cell_type": "code",
   "execution_count": 38,
   "metadata": {},
   "outputs": [],
   "source": [
    "df_f = pd.DataFrame(ls1)\n",
    "df_f.to_csv('DF_F.csv')"
   ]
  },
  {
   "cell_type": "markdown",
   "metadata": {},
   "source": [
    "# Extra tree classifier for features"
   ]
  },
  {
   "cell_type": "code",
   "execution_count": 39,
   "metadata": {},
   "outputs": [],
   "source": [
    "from sklearn.ensemble import ExtraTreesClassifier "
   ]
  },
  {
   "cell_type": "code",
   "execution_count": 40,
   "metadata": {},
   "outputs": [
    {
     "data": {
      "text/html": [
       "<div>\n",
       "<style scoped>\n",
       "    .dataframe tbody tr th:only-of-type {\n",
       "        vertical-align: middle;\n",
       "    }\n",
       "\n",
       "    .dataframe tbody tr th {\n",
       "        vertical-align: top;\n",
       "    }\n",
       "\n",
       "    .dataframe thead th {\n",
       "        text-align: right;\n",
       "    }\n",
       "</style>\n",
       "<table border=\"1\" class=\"dataframe\">\n",
       "  <thead>\n",
       "    <tr style=\"text-align: right;\">\n",
       "      <th></th>\n",
       "      <th>2</th>\n",
       "      <th>3</th>\n",
       "      <th>4</th>\n",
       "      <th>5</th>\n",
       "      <th>6</th>\n",
       "      <th>7</th>\n",
       "      <th>8</th>\n",
       "      <th>9</th>\n",
       "      <th>10</th>\n",
       "      <th>11</th>\n",
       "    </tr>\n",
       "  </thead>\n",
       "  <tbody>\n",
       "    <tr>\n",
       "      <th>0</th>\n",
       "      <td>30</td>\n",
       "      <td>2</td>\n",
       "      <td>3</td>\n",
       "      <td>30</td>\n",
       "      <td>2</td>\n",
       "      <td>3</td>\n",
       "      <td>59</td>\n",
       "      <td>7</td>\n",
       "      <td>2</td>\n",
       "      <td>0</td>\n",
       "    </tr>\n",
       "    <tr>\n",
       "      <th>1</th>\n",
       "      <td>70</td>\n",
       "      <td>2</td>\n",
       "      <td>4</td>\n",
       "      <td>68</td>\n",
       "      <td>2</td>\n",
       "      <td>4</td>\n",
       "      <td>134</td>\n",
       "      <td>7</td>\n",
       "      <td>2</td>\n",
       "      <td>0</td>\n",
       "    </tr>\n",
       "    <tr>\n",
       "      <th>2</th>\n",
       "      <td>1</td>\n",
       "      <td>2</td>\n",
       "      <td>2</td>\n",
       "      <td>0</td>\n",
       "      <td>2</td>\n",
       "      <td>2</td>\n",
       "      <td>0</td>\n",
       "      <td>7</td>\n",
       "      <td>2</td>\n",
       "      <td>0</td>\n",
       "    </tr>\n",
       "    <tr>\n",
       "      <th>3</th>\n",
       "      <td>77</td>\n",
       "      <td>2</td>\n",
       "      <td>7</td>\n",
       "      <td>73</td>\n",
       "      <td>2</td>\n",
       "      <td>7</td>\n",
       "      <td>144</td>\n",
       "      <td>7</td>\n",
       "      <td>2</td>\n",
       "      <td>0</td>\n",
       "    </tr>\n",
       "    <tr>\n",
       "      <th>4</th>\n",
       "      <td>78</td>\n",
       "      <td>3</td>\n",
       "      <td>7</td>\n",
       "      <td>74</td>\n",
       "      <td>3</td>\n",
       "      <td>7</td>\n",
       "      <td>146</td>\n",
       "      <td>8</td>\n",
       "      <td>2</td>\n",
       "      <td>0</td>\n",
       "    </tr>\n",
       "  </tbody>\n",
       "</table>\n",
       "</div>"
      ],
      "text/plain": [
       "   2   3   4   5   6   7    8   9   10  11\n",
       "0  30   2   3  30   2   3   59   7   2   0\n",
       "1  70   2   4  68   2   4  134   7   2   0\n",
       "2   1   2   2   0   2   2    0   7   2   0\n",
       "3  77   2   7  73   2   7  144   7   2   0\n",
       "4  78   3   7  74   3   7  146   8   2   0"
      ]
     },
     "execution_count": 40,
     "metadata": {},
     "output_type": "execute_result"
    }
   ],
   "source": [
    "yy = df_f[0] \n",
    "xx = df_f.drop([0,1], axis = 1) \n",
    "xx.head()"
   ]
  },
  {
   "cell_type": "code",
   "execution_count": 41,
   "metadata": {},
   "outputs": [
    {
     "data": {
      "image/png": "[encoded data removed]",
      "text/plain": [
       "<Figure size 432x288 with 1 Axes>"
      ]
     },
     "metadata": {
      "needs_background": "light"
     },
     "output_type": "display_data"
    },
    {
     "name": "stdout",
     "output_type": "stream",
     "text": [
      "2  :  sourceAddress\n",
      "3  :  sourceType\n",
      "4  :  sourceLocation\n",
      "5  :  destinationServiceAddress\n",
      "6  :  destinationServiceType\n",
      "7  :  destinationLocation\n",
      "8  :  accessedNodeAddress\n",
      "9  :  accessedNodeType\n",
      "10  :  operation\n",
      "11  :  value\n"
     ]
    }
   ],
   "source": [
    "extra_tree_forest = ExtraTreesClassifier(n_estimators = 5, \n",
    "                                        criterion ='entropy', max_features = 2) \n",
    "  \n",
    "extra_tree_forest.fit(xx, yy) \n",
    "\n",
    "feature_importance = extra_tree_forest.feature_importances_ \n",
    "  \n",
    "\n",
    "feature_importance_normalized = np.std([tree.feature_importances_ for tree in \n",
    "                                        extra_tree_forest.estimators_], \n",
    "                                        axis = 0) \n",
    "\n",
    "plt.bar(xx.columns, feature_importance_normalized) \n",
    "plt.xlabel('Feature Labels') \n",
    "\n",
    "plt.ylabel('Feature Importances') \n",
    "plt.title('Comparison of different Feature Importances') \n",
    "plt.show() \n",
    "\n",
    "ls=list(['sourceAddress','sourceType','sourceLocation','destinationServiceAddress','destinationServiceType','destinationLocation','accessedNodeAddress','accessedNodeType','operation','value'])\n",
    "j=2\n",
    "for i in ls:\n",
    "    print(j,' : ',i)\n",
    "    j+=1\n"
   ]
  },
  {
   "cell_type": "markdown",
   "metadata": {},
   "source": [
    "# Correlation matrix"
   ]
  },
  {
   "cell_type": "code",
   "execution_count": 42,
   "metadata": {},
   "outputs": [
    {
     "name": "stdout",
     "output_type": "stream",
     "text": [
      "0  :  normality\n",
      "1  :  sourceID\n",
      "2  :  sourceAddress\n",
      "3  :  sourceType\n",
      "4  :  sourceLocation\n",
      "5  :  destinationServiceAddress\n",
      "6  :  destinationServiceType\n",
      "7  :  destinationLocation\n",
      "8  :  accessedNodeAddress\n",
      "9  :  accessedNodeType\n",
      "10  :  operation\n",
      "11  :  value\n"
     ]
    },
    {
     "data": {
      "text/html": [
       "<div>\n",
       "<style scoped>\n",
       "    .dataframe tbody tr th:only-of-type {\n",
       "        vertical-align: middle;\n",
       "    }\n",
       "\n",
       "    .dataframe tbody tr th {\n",
       "        vertical-align: top;\n",
       "    }\n",
       "\n",
       "    .dataframe thead th {\n",
       "        text-align: right;\n",
       "    }\n",
       "</style>\n",
       "<table border=\"1\" class=\"dataframe\">\n",
       "  <thead>\n",
       "    <tr style=\"text-align: right;\">\n",
       "      <th></th>\n",
       "      <th>0</th>\n",
       "      <th>1</th>\n",
       "      <th>2</th>\n",
       "      <th>3</th>\n",
       "      <th>4</th>\n",
       "      <th>5</th>\n",
       "      <th>6</th>\n",
       "      <th>7</th>\n",
       "      <th>8</th>\n",
       "      <th>9</th>\n",
       "      <th>10</th>\n",
       "      <th>11</th>\n",
       "    </tr>\n",
       "  </thead>\n",
       "  <tbody>\n",
       "    <tr>\n",
       "      <th>0</th>\n",
       "      <td>1.000000</td>\n",
       "      <td>0.077120</td>\n",
       "      <td>0.072743</td>\n",
       "      <td>-0.122909</td>\n",
       "      <td>0.104011</td>\n",
       "      <td>0.036372</td>\n",
       "      <td>-0.143250</td>\n",
       "      <td>0.111095</td>\n",
       "      <td>0.034445</td>\n",
       "      <td>0.002115</td>\n",
       "      <td>0.050980</td>\n",
       "      <td>-0.088497</td>\n",
       "    </tr>\n",
       "    <tr>\n",
       "      <th>1</th>\n",
       "      <td>0.077120</td>\n",
       "      <td>1.000000</td>\n",
       "      <td>0.149404</td>\n",
       "      <td>0.893599</td>\n",
       "      <td>0.083986</td>\n",
       "      <td>0.075886</td>\n",
       "      <td>0.216608</td>\n",
       "      <td>0.115455</td>\n",
       "      <td>0.073184</td>\n",
       "      <td>0.327313</td>\n",
       "      <td>0.564702</td>\n",
       "      <td>0.309827</td>\n",
       "    </tr>\n",
       "    <tr>\n",
       "      <th>2</th>\n",
       "      <td>0.072743</td>\n",
       "      <td>0.149404</td>\n",
       "      <td>1.000000</td>\n",
       "      <td>0.046137</td>\n",
       "      <td>-0.024444</td>\n",
       "      <td>0.986339</td>\n",
       "      <td>0.018062</td>\n",
       "      <td>0.077478</td>\n",
       "      <td>0.985857</td>\n",
       "      <td>0.054049</td>\n",
       "      <td>0.041830</td>\n",
       "      <td>0.039178</td>\n",
       "    </tr>\n",
       "    <tr>\n",
       "      <th>3</th>\n",
       "      <td>-0.122909</td>\n",
       "      <td>0.893599</td>\n",
       "      <td>0.046137</td>\n",
       "      <td>1.000000</td>\n",
       "      <td>-0.014888</td>\n",
       "      <td>-0.030632</td>\n",
       "      <td>0.119020</td>\n",
       "      <td>0.022234</td>\n",
       "      <td>-0.031913</td>\n",
       "      <td>0.160438</td>\n",
       "      <td>0.335866</td>\n",
       "      <td>0.195026</td>\n",
       "    </tr>\n",
       "    <tr>\n",
       "      <th>4</th>\n",
       "      <td>0.104011</td>\n",
       "      <td>0.083986</td>\n",
       "      <td>-0.024444</td>\n",
       "      <td>-0.014888</td>\n",
       "      <td>1.000000</td>\n",
       "      <td>-0.004445</td>\n",
       "      <td>0.304115</td>\n",
       "      <td>0.950527</td>\n",
       "      <td>-0.008459</td>\n",
       "      <td>0.284807</td>\n",
       "      <td>0.087429</td>\n",
       "      <td>0.160131</td>\n",
       "    </tr>\n",
       "    <tr>\n",
       "      <th>5</th>\n",
       "      <td>0.036372</td>\n",
       "      <td>0.075886</td>\n",
       "      <td>0.986339</td>\n",
       "      <td>-0.030632</td>\n",
       "      <td>-0.004445</td>\n",
       "      <td>1.000000</td>\n",
       "      <td>0.095871</td>\n",
       "      <td>0.095961</td>\n",
       "      <td>0.999852</td>\n",
       "      <td>0.115165</td>\n",
       "      <td>0.031934</td>\n",
       "      <td>0.078294</td>\n",
       "    </tr>\n",
       "    <tr>\n",
       "      <th>6</th>\n",
       "      <td>-0.143250</td>\n",
       "      <td>0.216608</td>\n",
       "      <td>0.018062</td>\n",
       "      <td>0.119020</td>\n",
       "      <td>0.304115</td>\n",
       "      <td>0.095871</td>\n",
       "      <td>1.000000</td>\n",
       "      <td>0.298067</td>\n",
       "      <td>0.098849</td>\n",
       "      <td>0.902069</td>\n",
       "      <td>0.309669</td>\n",
       "      <td>0.609895</td>\n",
       "    </tr>\n",
       "    <tr>\n",
       "      <th>7</th>\n",
       "      <td>0.111095</td>\n",
       "      <td>0.115455</td>\n",
       "      <td>0.077478</td>\n",
       "      <td>0.022234</td>\n",
       "      <td>0.950527</td>\n",
       "      <td>0.095961</td>\n",
       "      <td>0.298067</td>\n",
       "      <td>1.000000</td>\n",
       "      <td>0.092024</td>\n",
       "      <td>0.266725</td>\n",
       "      <td>0.089832</td>\n",
       "      <td>0.163357</td>\n",
       "    </tr>\n",
       "    <tr>\n",
       "      <th>8</th>\n",
       "      <td>0.034445</td>\n",
       "      <td>0.073184</td>\n",
       "      <td>0.985857</td>\n",
       "      <td>-0.031913</td>\n",
       "      <td>-0.008459</td>\n",
       "      <td>0.999852</td>\n",
       "      <td>0.098849</td>\n",
       "      <td>0.092024</td>\n",
       "      <td>1.000000</td>\n",
       "      <td>0.115288</td>\n",
       "      <td>0.027848</td>\n",
       "      <td>0.074962</td>\n",
       "    </tr>\n",
       "    <tr>\n",
       "      <th>9</th>\n",
       "      <td>0.002115</td>\n",
       "      <td>0.327313</td>\n",
       "      <td>0.054049</td>\n",
       "      <td>0.160438</td>\n",
       "      <td>0.284807</td>\n",
       "      <td>0.115165</td>\n",
       "      <td>0.902069</td>\n",
       "      <td>0.266725</td>\n",
       "      <td>0.115288</td>\n",
       "      <td>1.000000</td>\n",
       "      <td>0.450901</td>\n",
       "      <td>0.702457</td>\n",
       "    </tr>\n",
       "    <tr>\n",
       "      <th>10</th>\n",
       "      <td>0.050980</td>\n",
       "      <td>0.564702</td>\n",
       "      <td>0.041830</td>\n",
       "      <td>0.335866</td>\n",
       "      <td>0.087429</td>\n",
       "      <td>0.031934</td>\n",
       "      <td>0.309669</td>\n",
       "      <td>0.089832</td>\n",
       "      <td>0.027848</td>\n",
       "      <td>0.450901</td>\n",
       "      <td>1.000000</td>\n",
       "      <td>0.434094</td>\n",
       "    </tr>\n",
       "    <tr>\n",
       "      <th>11</th>\n",
       "      <td>-0.088497</td>\n",
       "      <td>0.309827</td>\n",
       "      <td>0.039178</td>\n",
       "      <td>0.195026</td>\n",
       "      <td>0.160131</td>\n",
       "      <td>0.078294</td>\n",
       "      <td>0.609895</td>\n",
       "      <td>0.163357</td>\n",
       "      <td>0.074962</td>\n",
       "      <td>0.702457</td>\n",
       "      <td>0.434094</td>\n",
       "      <td>1.000000</td>\n",
       "    </tr>\n",
       "  </tbody>\n",
       "</table>\n",
       "</div>"
      ],
      "text/plain": [
       "          0         1         2         3         4         5         6   \\\n",
       "0   1.000000  0.077120  0.072743 -0.122909  0.104011  0.036372 -0.143250   \n",
       "1   0.077120  1.000000  0.149404  0.893599  0.083986  0.075886  0.216608   \n",
       "2   0.072743  0.149404  1.000000  0.046137 -0.024444  0.986339  0.018062   \n",
       "3  -0.122909  0.893599  0.046137  1.000000 -0.014888 -0.030632  0.119020   \n",
       "4   0.104011  0.083986 -0.024444 -0.014888  1.000000 -0.004445  0.304115   \n",
       "5   0.036372  0.075886  0.986339 -0.030632 -0.004445  1.000000  0.095871   \n",
       "6  -0.143250  0.216608  0.018062  0.119020  0.304115  0.095871  1.000000   \n",
       "7   0.111095  0.115455  0.077478  0.022234  0.950527  0.095961  0.298067   \n",
       "8   0.034445  0.073184  0.985857 -0.031913 -0.008459  0.999852  0.098849   \n",
       "9   0.002115  0.327313  0.054049  0.160438  0.284807  0.115165  0.902069   \n",
       "10  0.050980  0.564702  0.041830  0.335866  0.087429  0.031934  0.309669   \n",
       "11 -0.088497  0.309827  0.039178  0.195026  0.160131  0.078294  0.609895   \n",
       "\n",
       "          7         8         9         10        11  \n",
       "0   0.111095  0.034445  0.002115  0.050980 -0.088497  \n",
       "1   0.115455  0.073184  0.327313  0.564702  0.309827  \n",
       "2   0.077478  0.985857  0.054049  0.041830  0.039178  \n",
       "3   0.022234 -0.031913  0.160438  0.335866  0.195026  \n",
       "4   0.950527 -0.008459  0.284807  0.087429  0.160131  \n",
       "5   0.095961  0.999852  0.115165  0.031934  0.078294  \n",
       "6   0.298067  0.098849  0.902069  0.309669  0.609895  \n",
       "7   1.000000  0.092024  0.266725  0.089832  0.163357  \n",
       "8   0.092024  1.000000  0.115288  0.027848  0.074962  \n",
       "9   0.266725  0.115288  1.000000  0.450901  0.702457  \n",
       "10  0.089832  0.027848  0.450901  1.000000  0.434094  \n",
       "11  0.163357  0.074962  0.702457  0.434094  1.000000  "
      ]
     },
     "execution_count": 42,
     "metadata": {},
     "output_type": "execute_result"
    }
   ],
   "source": [
    "\n",
    "ls=list(['normality','sourceID','sourceAddress','sourceType','sourceLocation','destinationServiceAddress','destinationServiceType','destinationLocation','accessedNodeAddress','accessedNodeType','operation','value'])\n",
    "j=0\n",
    "for i in ls:\n",
    "    print(j,' : ',i)\n",
    "    j+=1\n",
    "df_f.corr()"
   ]
  },
  {
   "cell_type": "code",
   "execution_count": null,
   "metadata": {},
   "outputs": [],
   "source": []
  }
 ],
 "metadata": {
  "kernelspec": {
   "display_name": "Python 3",
   "language": "python",
   "name": "python3"
  },
  "language_info": {
   "codemirror_mode": {
    "name": "ipython",
    "version": 3
   },
   "file_extension": ".py",
   "mimetype": "text/x-python",
   "name": "python",
   "nbconvert_exporter": "python",
   "pygments_lexer": "ipython3",
   "version": "3.8.5"
  }
 },
 "nbformat": 4,
 "nbformat_minor": 4
}
