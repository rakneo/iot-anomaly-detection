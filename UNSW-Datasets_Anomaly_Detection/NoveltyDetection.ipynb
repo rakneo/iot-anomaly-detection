{
 "cells": [
  {
   "cell_type": "markdown",
   "metadata": {},
   "source": [
    "# Initialization"
   ]
  },
  {
   "cell_type": "code",
   "execution_count": 23,
   "metadata": {},
   "outputs": [],
   "source": [
    "import imp\n",
    "from sklearn.model_selection import KFold\n",
    "from sklearn.model_selection import train_test_split\n",
    "import numpy as np\n",
    "from pull_data import Pull\n",
    "import os\n",
    "from sklearn.metrics import confusion_matrix\n",
    "from prettytable import PrettyTable\n",
    "from statistics import mean\n",
    "\n",
    "#from scikit_IsolatedForest import IsolatedForest\n",
    "from sklearn.ensemble import IsolationForest\n",
    "#from scikit_LOFNovelty import LOFNovelty\n",
    "from sklearn.neighbors import LocalOutlierFactor\n",
    "#from scikit_OneClassSVM import OCSVM\n",
    "from sklearn.svm import OneClassSVM"
   ]
  },
  {
   "cell_type": "code",
   "execution_count": 34,
   "metadata": {},
   "outputs": [],
   "source": [
    "# List of available classess in dataset\n",
    "# Uncomment any class to include it into evaluation\n",
    "DATA_CLASS = {\n",
    "    # CESNET DATASET\n",
    "    \"IKEA_APP\" : \"dev-annotated-datasets/ikea-app/train\",\n",
    "    \"IKEA_HOMEKIT_CLEAR\" : \"dev-annotated-datasets/ikea-app/anomaly\",\n",
    "    \"IKEA_HOMEKIT\" : \"dev-annotated-datasets/ikea-homekit/train\",\n",
    "    \"IP_CAM\" : \"dev-annotated-datasets/ipcam/train\",\n",
    "    \"IP_CAM_MISCONFIG\" : \"dev-annotated-datasets/ipcam/anomaly_cam\",\n",
    "    \"NORMAL_USER\" : \"dev-annotated-datasets/normal-user/train\",\n",
    "    \"VOICE_ASSISTANT\" : \"dev-annotated-datasets/voice-assistant/train\",\n",
    "}"
   ]
  },
  {
   "cell_type": "markdown",
   "metadata": {},
   "source": [
    "# Function Definitions"
   ]
  },
  {
   "cell_type": "code",
   "execution_count": 35,
   "metadata": {},
   "outputs": [],
   "source": [
    "class Metrics:\n",
    "    def __init__(self,label):\n",
    "        self.label = label\n",
    "        self.accuracy = []\n",
    "        self.precision = []\n",
    "        self.recall = []\n",
    "        self.f1 = []\n",
    "        self.cnt = 0\n",
    "    def update(self,y,pred,score):\n",
    "        try:\n",
    "            tn, fp, fn, tp = confusion_matrix(y, pred).ravel()\n",
    "        except Exception as e:\n",
    "            # TN in all cases\n",
    "            tn = 0\n",
    "            fp = 0\n",
    "            fn = 0\n",
    "            tp = confusion_matrix(y, pred).ravel()[0]\n",
    "        \n",
    "        total = tp+tn+fp+fn\n",
    "        accuracy = (tp+tn)/total\n",
    "        if self.label == \"Valid\" or self.label == \"Mix\":\n",
    "            precision = tp/(tp+fp)\n",
    "            recall = tp/(tp+fn)\n",
    "            f1 = 2*(precision*recall)/(precision+recall)\n",
    "        else:\n",
    "            try:\n",
    "                precision = tn/(tn+fn) # Negative precision\n",
    "                recall = tn/(tn+fp) # Negative recall\n",
    "                f1 = 2*(precision*recall)/(precision+recall) # Negative f1\n",
    "            except Exception as e:\n",
    "                print(\"ERROR\",self.label,e)\n",
    "                precision = 0\n",
    "                f1 = 0\n",
    "                recall = 0\n",
    "        self.accuracy.append(accuracy)\n",
    "        self.precision.append(precision)\n",
    "        self.recall.append(recall)\n",
    "        self.f1.append(f1)\n",
    "        self.cnt += 1\n",
    "        \n",
    "    def print(self):\n",
    "        table = PrettyTable()\n",
    "        table.field_names = [self.label+\" Data\",\"Accuracy\", \"Precision\", \"Recall\", \"F1 score\"]\n",
    "        for i in range(len(self.accuracy)):\n",
    "            table.add_row([i,round(self.accuracy[i],3),round(self.precision[i],3),round(self.recall[i],3),round(self.f1[i],3)])\n",
    "        \n",
    "        table.add_row([\"Avg\",round(mean(self.accuracy),3),round(mean(self.precision),3),round(mean(self.recall),3),round(mean(self.f1),3)])\n",
    "        print(table)\n",
    "        # Return F1-score\n",
    "        return round(mean(self.f1),3)"
   ]
  },
  {
   "cell_type": "code",
   "execution_count": 36,
   "metadata": {},
   "outputs": [],
   "source": [
    "def print_metrics(y, pred, thr_pred=0.5, label=\"\"):\n",
    "    print(\"### Metric\",label,\"###\")\n",
    "    try:\n",
    "        tn, fp, fn, tp = confusion_matrix(y, pred).ravel()\n",
    "    except Exception as e:\n",
    "        # TP in all cases\n",
    "        tn = 0\n",
    "        fp = 0\n",
    "        fn = 0\n",
    "        tp = confusion_matrix(y, pred).ravel()[0]\n",
    "    #print(tn, fp, fn, tp)\n",
    "    \n",
    "    total = tp+tn+fp+fn\n",
    "    acc = (tp+tn)/total\n",
    "    if label == \"Valid\" or label == \"Mix\":\n",
    "        prec = tp/(tp+fp)\n",
    "        rec = tp/(tp+fn)\n",
    "        f1 = 2*(prec*rec)/(prec+rec)\n",
    "    \n",
    "        print(\"TP: {:7d} {:6.2f}%\".format(tp, tp*100/total))\n",
    "        print(\"FN: {:7d} {:6.2f}%\".format(fn, fn*100/total))\n",
    "        print(\"FP: {:7d} {:6.2f}%\".format(fp, fp*100/total))\n",
    "        print(\"TN: {:7d} {:6.2f}%\".format(tn, tn*100/total))\n",
    "        print(\"Accuracy:   {:6.2f}%\".format(acc*100))\n",
    "        print(\"Precision:  {:6.4f}\".format(prec))\n",
    "        print(\"Recall:     {:6.4f}\".format(rec))\n",
    "        print(\"F1 score:   {:6.4f}\".format(f1))\n",
    "    \n",
    "    else:\n",
    "        try:\n",
    "            prec_n = tn/(tn+fn)\n",
    "            rec_n = tn/(tn+fp)\n",
    "            f1_n = 2*(prec_n*rec_n)/(prec_n+rec_n)\n",
    "        except Exception as e:\n",
    "            print(e)\n",
    "            prec_n = 0\n",
    "            f1_n = 0\n",
    "            rec_n = 0\n",
    "        \n",
    "        print(\"TP: {:7d} {:6.2f}%\".format(tp, tp*100/total))\n",
    "        print(\"FN: {:7d} {:6.2f}%\".format(fn, fn*100/total))\n",
    "        print(\"FP: {:7d} {:6.2f}%\".format(fp, fp*100/total))\n",
    "        print(\"TN: {:7d} {:6.2f}%\".format(tn, tn*100/total))\n",
    "        print(\"Accuracy:   {:6.2f}%\".format(acc*100))\n",
    "        print(\"Precision Anomaly:  {:6.4f}\".format(prec_n))\n",
    "        print(\"Recall Anomaly:     {:6.4f}\".format(rec_n))\n",
    "        print(\"F1 score Anomaly:   {:6.4f}\".format(f1_n))\n",
    "   "
   ]
  },
  {
   "cell_type": "code",
   "execution_count": 37,
   "metadata": {},
   "outputs": [],
   "source": [
    "def runModel(models):\n",
    "    UPPER_LIMIT = 400 # set upper limit for flows training dataset\n",
    "    for key, model in models.items():\n",
    "        print(\"### Model Name:\",key,\" ###\")\n",
    "        # Set label based on the type of dataset data.. \n",
    "        m_valid = Metrics(label=\"Valid\")\n",
    "        m_anomaly = Metrics(label=\"Anomaly\")\n",
    "        m_mix = Metrics(label=\"Mix\")\n",
    "        kf = KFold(5, True)\n",
    "        \n",
    "        # uniform random select for anomaly\n",
    "        if len(a.data) < UPPER_LIMIT:\n",
    "            max_limit = len(a.data)\n",
    "        else:\n",
    "            max_limit = UPPER_LIMIT\n",
    "        a_idx = np.random.choice(len(a.data), max_limit, replace=False)\n",
    "        \n",
    "        # uniform random select for valid\n",
    "        if len(t.data) < UPPER_LIMIT:\n",
    "            max_limit = len(t.data)\n",
    "        else:\n",
    "            max_limit = UPPER_LIMIT\n",
    "        t_idx = np.random.choice(len(t.data), max_limit, replace=False)\n",
    "        \n",
    "        t_data = np.array(t.data)[t_idx]\n",
    "        a_data = np.array(a.data)[a_idx]\n",
    "        print(len(t_data),len(a_data))\n",
    "        iteration_cnt = 0\n",
    "        for train_index, test_index in kf.split(t_data):\n",
    "            iteration_cnt += 1\n",
    "            #Train\n",
    "            model.fit(t_data[train_index])\n",
    "            #Evaluate \n",
    "            # Valid Evaluation\n",
    "            y_pred_valid = model.predict(t_data[test_index])\n",
    "            score_v = model.decision_function(t_data[test_index])\n",
    "            \n",
    "            #Anomaly Evaluation\n",
    "            if len(a.data) <= max(test_index):\n",
    "                y_pred_outliers = model.predict(a.data)\n",
    "                score_a = model.decision_function(a.data)\n",
    "            else:\n",
    "                y_pred_outliers = model.predict(a_data[test_index])\n",
    "                score_a = model.decision_function(a_data[test_index])\n",
    "            # Uncomment valid/anomaly in case you would like to evaluate these type of traffic separately\n",
    "            # Add results to the metrics object\n",
    "            #m_valid.update([1]*len(y_pred_valid),y_pred_valid,score_v)\n",
    "            #m_anomaly.update([-1]*len(y_pred_outliers),y_pred_outliers,score_a)\n",
    "            m_mix.update([1]*len(y_pred_valid) + [-1]*len(y_pred_outliers),np.concatenate((y_pred_valid,y_pred_outliers),axis=None),np.concatenate((score_v,score_a),axis=None))\n",
    "            \n",
    "            #print_metrics([1]*len(y_pred_valid),y_pred_valid,label=\"Valid\")\n",
    "            #print_metrics([-1]*len(y_pred_outliers),y_pred_outliers,label=\"Anomaly\")\n",
    "        #m_valid.print()\n",
    "        #m_anomaly.print()\n",
    "        f1score = m_mix.print()\n",
    "        return f1score\n",
    "        \n",
    "        "
   ]
  },
  {
   "cell_type": "markdown",
   "metadata": {},
   "source": [
    "# Pull Datasets"
   ]
  },
  {
   "cell_type": "raw",
   "metadata": {},
   "source": [
    "# Demo test pull for initial tests\n",
    "t = Pull(DATA_CLASS[\"IKEA_APP\"],1) #+\"/train/\",1)\n",
    "#a = Pull(DATA_CLASS[\"NORMAL_USER\"] +\"/train/\",1)\n",
    "a = Pull(DATA_CLASS[\"INSTEON_CAM\"],1)\n",
    "#v = Pull(IKEA_APP +\"/valid/\",1)\n",
    "print(\"Valid:\",len(t.data),\" Anomaly:\",len(a.data))#,\" Valid:\",len(v.data))\n",
    "print(\"Number of features:\",t.features_cnt)"
   ]
  },
  {
   "cell_type": "markdown",
   "metadata": {},
   "source": [
    "# MODELS"
   ]
  },
  {
   "cell_type": "code",
   "execution_count": 38,
   "metadata": {},
   "outputs": [],
   "source": [
    "MODELS = {}\n",
    "MODELS[\"IsolatedForest\"] = {}\n",
    "MODELS[\"LOF\"] = {}\n",
    "MODELS[\"OneClassSVM\"] = {}\n",
    "rng = np.random.RandomState(12345)\n",
    "MODELS[\"IsolatedForest\"][\"IF1\"] = IsolationForest(n_estimators = 250, max_samples='auto',max_features=5,bootstrap=True , behaviour='new',random_state=rng, contamination='auto')\n",
    "#MODELS[\"IsolatedForest\"][\"IF2\"] = IsolationForest(n_estimators = 20, max_samples='auto',max_features=5,bootstrap=True ,random_state=rng)\n",
    "#MODELS[\"LOF\"][\"LOF1\"] = LocalOutlierFactor(n_neighbors = 10, metric = \"chebyshev\", novelty=True, contamination=0.1)\n",
    "MODELS[\"LOF\"][\"LOF2\"] = LocalOutlierFactor(n_neighbors = 10, metric = \"chebyshev\", novelty=True, contamination='auto')\n",
    "#MODELS[\"LOF\"][\"LOF3\"] = LocalOutlierFactor(n_neighbors = 10, metric = \"canberra\", novelty=True, contamination='auto')\n",
    "#MODELS[\"LOF\"][\"LOF4\"] = LocalOutlierFactor(n_neighbors = 20, metric = \"euclidean\", novelty=True, contamination='auto')\n",
    "#MODELS[\"LOF\"][\"LOF5\"] = LocalOutlierFactor(n_neighbors = 20, metric = \"minkowski\", novelty=True, contamination='auto')\n",
    "#MODELS[\"LOF\"][\"LOF4\"] = LocalOutlierFactor(n_neighbors = 10, metric = \"canberra\", novelty=True, contamination='auto')\n",
    "MODELS[\"OneClassSVM\"][\"OSVM1\"] = OneClassSVM(kernel='poly',gamma=\"auto\",coef0=1, nu=0.2)\n",
    "\n"
   ]
  },
  {
   "cell_type": "code",
   "execution_count": 39,
   "metadata": {},
   "outputs": [
    {
     "name": "stdout",
     "output_type": "stream",
     "text": [
      "Valid: 1027  Anomaly: 323\n",
      "Number of features: 32\n",
      "### Model Name: LOF2  ###\n",
      "400 323\n",
      "+----------+----------+-----------+--------+----------+\n",
      "| Mix Data | Accuracy | Precision | Recall | F1 score |\n",
      "+----------+----------+-----------+--------+----------+\n",
      "|    0     |  0.638   |   0.332   | 0.812  |  0.471   |\n",
      "|    1     |  0.655   |   0.355   |  0.9   |  0.509   |\n",
      "|    2     |  0.645   |   0.342   |  0.85  |  0.487   |\n",
      "|    3     |  0.655   |   0.355   |  0.9   |  0.509   |\n",
      "|    4     |  0.623   |   0.311   | 0.738  |  0.437   |\n",
      "|   Avg    |  0.643   |   0.339   |  0.84  |  0.483   |\n",
      "+----------+----------+-----------+--------+----------+\n"
     ]
    },
    {
     "name": "stderr",
     "output_type": "stream",
     "text": [
      "C:\\Users\\Admin\\anaconda3\\lib\\site-packages\\sklearn\\utils\\validation.py:67: FutureWarning: Pass shuffle=True as keyword args. From version 0.25 passing these as positional arguments will result in an error\n",
      "  warnings.warn(\"Pass {} as keyword args. From version 0.25 \"\n"
     ]
    },
    {
     "data": {
      "text/plain": [
       "0.483"
      ]
     },
     "execution_count": 39,
     "metadata": {},
     "output_type": "execute_result"
    }
   ],
   "source": [
    "# Quickly compare two classes\n",
    "t = Pull(DATA_CLASS[\"NORMAL_USER\"],1)\n",
    "a = Pull(DATA_CLASS[\"IP_CAM\"],1)\n",
    "print(\"Valid:\",len(t.data),\" Anomaly:\",len(a.data))#,\" Valid:\",len(v.data))\n",
    "print(\"Number of features:\",t.features_cnt)\n",
    "runModel(MODELS[\"LOF\"])"
   ]
  },
  {
   "cell_type": "markdown",
   "metadata": {},
   "source": [
    "# Evaluation\n",
    "Measurements for experiments section in the paper"
   ]
  },
  {
   "cell_type": "code",
   "execution_count": 40,
   "metadata": {},
   "outputs": [
    {
     "name": "stdout",
     "output_type": "stream",
     "text": [
      "RESULST FOR CLASS: IKEA_APP\n",
      "### Model Name: LOF2  ###\n",
      "323 388\n",
      "+----------+----------+-----------+--------+----------+\n",
      "| Mix Data | Accuracy | Precision | Recall | F1 score |\n",
      "+----------+----------+-----------+--------+----------+\n",
      "|    0     |  0.815   |   0.902   | 0.708  |  0.793   |\n",
      "|    1     |  0.877   |   0.889   | 0.862  |  0.875   |\n",
      "|    2     |  0.869   |   0.944   | 0.785  |  0.857   |\n",
      "|    3     |  0.867   |    0.98   |  0.75  |   0.85   |\n",
      "|    4     |  0.875   |   0.929   | 0.812  |  0.867   |\n",
      "|   Avg    |  0.861   |   0.929   | 0.783  |  0.848   |\n",
      "+----------+----------+-----------+--------+----------+\n",
      "RESULST FOR CLASS: IKEA_HOMEKIT_CLEAR\n",
      "### Model Name: LOF2  ###\n",
      "323 16\n",
      "+----------+----------+-----------+--------+----------+\n",
      "| Mix Data | Accuracy | Precision | Recall | F1 score |\n",
      "+----------+----------+-----------+--------+----------+\n",
      "|    0     |  0.864   |   0.982   | 0.846  |  0.909   |\n",
      "|    1     |  0.765   |   0.979   | 0.723  |  0.832   |\n",
      "|    2     |   0.84   |   0.981   | 0.815  |  0.891   |\n",
      "|    3     |  0.875   |   0.982   | 0.859  |  0.917   |\n",
      "|    4     |  0.788   |    0.98   |  0.75  |   0.85   |\n",
      "|   Avg    |  0.826   |   0.981   | 0.799  |   0.88   |\n",
      "+----------+----------+-----------+--------+----------+\n",
      "RESULST FOR CLASS: IKEA_HOMEKIT\n",
      "### Model Name: LOF2  ###\n",
      "323 144\n",
      "+----------+----------+-----------+--------+----------+\n",
      "| Mix Data | Accuracy | Precision | Recall | F1 score |\n",
      "+----------+----------+-----------+--------+----------+\n",
      "|    0     |  0.938   |   0.948   | 0.846  |  0.894   |\n",
      "|    1     |  0.919   |   0.944   | 0.785  |  0.857   |\n",
      "|    2     |   0.9    |    0.94   | 0.723  |  0.817   |\n",
      "|    3     |  0.875   |   0.932   | 0.641  |  0.759   |\n",
      "|    4     |  0.952   |    0.95   | 0.891  |  0.919   |\n",
      "|   Avg    |  0.917   |   0.943   | 0.777  |  0.849   |\n",
      "+----------+----------+-----------+--------+----------+\n"
     ]
    },
    {
     "name": "stderr",
     "output_type": "stream",
     "text": [
      "C:\\Users\\Admin\\anaconda3\\lib\\site-packages\\sklearn\\utils\\validation.py:67: FutureWarning: Pass shuffle=True as keyword args. From version 0.25 passing these as positional arguments will result in an error\n",
      "  warnings.warn(\"Pass {} as keyword args. From version 0.25 \"\n",
      "C:\\Users\\Admin\\anaconda3\\lib\\site-packages\\sklearn\\utils\\validation.py:67: FutureWarning: Pass shuffle=True as keyword args. From version 0.25 passing these as positional arguments will result in an error\n",
      "  warnings.warn(\"Pass {} as keyword args. From version 0.25 \"\n",
      "C:\\Users\\Admin\\anaconda3\\lib\\site-packages\\sklearn\\utils\\validation.py:67: FutureWarning: Pass shuffle=True as keyword args. From version 0.25 passing these as positional arguments will result in an error\n",
      "  warnings.warn(\"Pass {} as keyword args. From version 0.25 \"\n"
     ]
    },
    {
     "name": "stdout",
     "output_type": "stream",
     "text": [
      "RESULST FOR CLASS: IP_CAM\n",
      "### Model Name: LOF2  ###\n",
      "323 323\n",
      "+----------+----------+-----------+--------+----------+\n",
      "| Mix Data | Accuracy | Precision | Recall | F1 score |\n",
      "+----------+----------+-----------+--------+----------+\n",
      "|    0     |  0.477   |   0.486   | 0.785  |   0.6    |\n",
      "|    1     |  0.531   |   0.519   | 0.862  |  0.647   |\n",
      "|    2     |  0.531   |    0.52   | 0.785  |  0.626   |\n",
      "|    3     |  0.461   |   0.475   |  0.75  |  0.582   |\n",
      "|    4     |  0.492   |   0.495   | 0.812  |  0.615   |\n",
      "|   Avg    |  0.498   |   0.499   | 0.799  |  0.614   |\n",
      "+----------+----------+-----------+--------+----------+\n"
     ]
    },
    {
     "name": "stderr",
     "output_type": "stream",
     "text": [
      "C:\\Users\\Admin\\anaconda3\\lib\\site-packages\\sklearn\\utils\\validation.py:67: FutureWarning: Pass shuffle=True as keyword args. From version 0.25 passing these as positional arguments will result in an error\n",
      "  warnings.warn(\"Pass {} as keyword args. From version 0.25 \"\n"
     ]
    },
    {
     "name": "stdout",
     "output_type": "stream",
     "text": [
      "RESULST FOR CLASS: IP_CAM_MISCONFIG\n",
      "### Model Name: LOF2  ###\n",
      "323 400\n",
      "+----------+----------+-----------+--------+----------+\n",
      "| Mix Data | Accuracy | Precision | Recall | F1 score |\n",
      "+----------+----------+-----------+--------+----------+\n",
      "|    0     |   0.8    |   0.855   | 0.723  |  0.783   |\n",
      "|    1     |  0.831   |   0.852   |  0.8   |  0.825   |\n",
      "|    2     |  0.815   |   0.836   | 0.785  |   0.81   |\n",
      "|    3     |  0.797   |   0.806   | 0.781  |  0.794   |\n",
      "|    4     |  0.773   |   0.807   | 0.719  |   0.76   |\n",
      "|   Avg    |  0.803   |   0.831   | 0.762  |  0.794   |\n",
      "+----------+----------+-----------+--------+----------+\n"
     ]
    },
    {
     "name": "stderr",
     "output_type": "stream",
     "text": [
      "C:\\Users\\Admin\\anaconda3\\lib\\site-packages\\sklearn\\utils\\validation.py:67: FutureWarning: Pass shuffle=True as keyword args. From version 0.25 passing these as positional arguments will result in an error\n",
      "  warnings.warn(\"Pass {} as keyword args. From version 0.25 \"\n"
     ]
    },
    {
     "name": "stdout",
     "output_type": "stream",
     "text": [
      "RESULST FOR CLASS: NORMAL_USER\n",
      "### Model Name: LOF2  ###\n",
      "323 400\n",
      "+----------+----------+-----------+--------+----------+\n",
      "| Mix Data | Accuracy | Precision | Recall | F1 score |\n",
      "+----------+----------+-----------+--------+----------+\n",
      "|    0     |  0.862   |    0.98   | 0.738  |  0.842   |\n",
      "|    1     |  0.846   |   0.941   | 0.738  |  0.828   |\n",
      "|    2     |  0.892   |    1.0    | 0.785  |  0.879   |\n",
      "|    3     |   0.75   |   0.722   | 0.812  |  0.765   |\n",
      "|    4     |  0.906   |   0.981   | 0.828  |  0.898   |\n",
      "|   Avg    |  0.851   |   0.925   |  0.78  |  0.842   |\n",
      "+----------+----------+-----------+--------+----------+\n",
      "RESULST FOR CLASS: VOICE_ASSISTANT\n",
      "### Model Name: LOF2  ###\n",
      "323 332\n",
      "+----------+----------+-----------+--------+----------+\n",
      "| Mix Data | Accuracy | Precision | Recall | F1 score |\n",
      "+----------+----------+-----------+--------+----------+\n",
      "|    0     |  0.838   |   0.907   | 0.754  |  0.824   |\n",
      "|    1     |  0.831   |   0.906   | 0.738  |  0.814   |\n",
      "|    2     |  0.885   |   0.931   | 0.831  |  0.878   |\n",
      "|    3     |  0.844   |   0.879   | 0.797  |  0.836   |\n",
      "|    4     |  0.883   |    0.93   | 0.828  |  0.876   |\n",
      "|   Avg    |  0.856   |   0.911   |  0.79  |  0.845   |\n",
      "+----------+----------+-----------+--------+----------+\n",
      "0.843\n"
     ]
    },
    {
     "name": "stderr",
     "output_type": "stream",
     "text": [
      "C:\\Users\\Admin\\anaconda3\\lib\\site-packages\\sklearn\\utils\\validation.py:67: FutureWarning: Pass shuffle=True as keyword args. From version 0.25 passing these as positional arguments will result in an error\n",
      "  warnings.warn(\"Pass {} as keyword args. From version 0.25 \"\n",
      "C:\\Users\\Admin\\anaconda3\\lib\\site-packages\\sklearn\\utils\\validation.py:67: FutureWarning: Pass shuffle=True as keyword args. From version 0.25 passing these as positional arguments will result in an error\n",
      "  warnings.warn(\"Pass {} as keyword args. From version 0.25 \"\n"
     ]
    }
   ],
   "source": [
    "SRC_CLASS = \"IP_CAM\"\n",
    "src_f1_score = []\n",
    "t = Pull(DATA_CLASS[SRC_CLASS],1)\n",
    "for data_cl in DATA_CLASS:\n",
    "   # if data_cl == SRC_CLASS:\n",
    "   #     continue\n",
    "    a = Pull(DATA_CLASS[data_cl],1)\n",
    "    print(\"RESULST FOR CLASS:\",data_cl)\n",
    "    if data_cl == SRC_CLASS:\n",
    "        runModel(MODELS[\"LOF\"])\n",
    "    else:\n",
    "        src_f1_score.append(runModel(MODELS[\"LOF\"]))\n",
    "#print(src_f1_score)\n",
    "print(round(mean(src_f1_score),3))"
   ]
  },
  {
   "cell_type": "markdown",
   "metadata": {},
   "source": [
    "# Single Models\n",
    "Used for independet testing with any part of provided dataset"
   ]
  },
  {
   "cell_type": "markdown",
   "metadata": {},
   "source": [
    "## Isolated Forest"
   ]
  },
  {
   "cell_type": "code",
   "execution_count": 41,
   "metadata": {},
   "outputs": [
    {
     "name": "stderr",
     "output_type": "stream",
     "text": [
      "C:\\Users\\Admin\\anaconda3\\lib\\site-packages\\sklearn\\utils\\validation.py:67: FutureWarning: Pass shuffle=True as keyword args. From version 0.25 passing these as positional arguments will result in an error\n",
      "  warnings.warn(\"Pass {} as keyword args. From version 0.25 \"\n",
      "C:\\Users\\Admin\\anaconda3\\lib\\site-packages\\sklearn\\ensemble\\_iforest.py:252: FutureWarning: 'behaviour' is deprecated in 0.22 and will be removed in 0.24. You should not pass or set this parameter.\n",
      "  warn(\n"
     ]
    },
    {
     "name": "stdout",
     "output_type": "stream",
     "text": [
      "===== Iteration: 1 =====\n",
      "### Metric Mix ###\n",
      "TP:      99  22.50%\n",
      "FN:       9   2.05%\n",
      "FP:     259  58.86%\n",
      "TN:      73  16.59%\n",
      "Accuracy:    39.09%\n",
      "Precision:  0.2765\n",
      "Recall:     0.9167\n",
      "F1 score:   0.4249\n"
     ]
    },
    {
     "name": "stderr",
     "output_type": "stream",
     "text": [
      "C:\\Users\\Admin\\anaconda3\\lib\\site-packages\\sklearn\\ensemble\\_iforest.py:252: FutureWarning: 'behaviour' is deprecated in 0.22 and will be removed in 0.24. You should not pass or set this parameter.\n",
      "  warn(\n"
     ]
    },
    {
     "name": "stdout",
     "output_type": "stream",
     "text": [
      "===== Iteration: 2 =====\n",
      "### Metric Mix ###\n",
      "TP:      96  21.82%\n",
      "FN:      12   2.73%\n",
      "FP:     173  39.32%\n",
      "TN:     159  36.14%\n",
      "Accuracy:    57.95%\n",
      "Precision:  0.3569\n",
      "Recall:     0.8889\n",
      "F1 score:   0.5093\n",
      "===== Iteration: 3 =====\n",
      "### Metric Mix ###\n",
      "TP:      98  22.32%\n",
      "FN:       9   2.05%\n",
      "FP:     243  55.35%\n",
      "TN:      89  20.27%\n",
      "Accuracy:    42.60%\n",
      "Precision:  0.2874\n",
      "Recall:     0.9159\n",
      "F1 score:   0.4375\n"
     ]
    },
    {
     "name": "stderr",
     "output_type": "stream",
     "text": [
      "C:\\Users\\Admin\\anaconda3\\lib\\site-packages\\sklearn\\ensemble\\_iforest.py:252: FutureWarning: 'behaviour' is deprecated in 0.22 and will be removed in 0.24. You should not pass or set this parameter.\n",
      "  warn(\n"
     ]
    }
   ],
   "source": [
    "#Create Model\n",
    "rng = np.random.RandomState(12345)\n",
    "clf = IsolationForest(n_estimators = 100, max_samples=\"auto\",max_features=1,bootstrap=False ,random_state=rng, behaviour='new', contamination='auto')\n",
    "\n",
    "kf = KFold(3, True)\n",
    "t_data = np.array(t.data)\n",
    "a_data = np.array(a.data)\n",
    "iteration_cnt = 0\n",
    "for train_index, test_index in kf.split(t_data):\n",
    "    iteration_cnt += 1\n",
    "    #Train\n",
    "    clf.fit(t_data[train_index])\n",
    "    #Evaluate \n",
    "    y_pred_valid = clf.predict(t_data[test_index])\n",
    "    y_pred_outliers = clf.predict(a.data)\n",
    "    print(\"===== Iteration:\",iteration_cnt,\"=====\")\n",
    "    #print_metrics([1]*len(y_pred_valid),y_pred_valid,label=\"Valid\")\n",
    "    #print_metrics([-1]*len(y_pred_outliers),y_pred_outliers,label=\"Anomaly\")\n",
    "    #Concatenate above results from anomaly and valid dataset for clearer results\n",
    "    print_metrics([1]*len(y_pred_valid)+[-1]*len(y_pred_outliers),np.concatenate((y_pred_valid,y_pred_outliers),axis=None),label=\"Mix\")\n",
    "    \n",
    "    #m_valid.update([1]*len(y_pred_valid),y_pred_valid)\n",
    "    #m_anomaly.update([-1]*len(y_pred_outliers),y_pred_outliers)\n",
    "    #m_valid.print()\n",
    "    #m_anomaly.print()\n",
    "    "
   ]
  },
  {
   "cell_type": "markdown",
   "metadata": {},
   "source": [
    "### LOF Novelty"
   ]
  },
  {
   "cell_type": "code",
   "execution_count": 42,
   "metadata": {},
   "outputs": [
    {
     "name": "stdout",
     "output_type": "stream",
     "text": [
      "===== Iteration: 1 =====\n",
      "### Metric Mix ###\n",
      "TP:      81  18.41%\n",
      "FN:      27   6.14%\n",
      "FP:      26   5.91%\n",
      "TN:     306  69.55%\n",
      "Accuracy:    87.95%\n",
      "Precision:  0.7570\n",
      "Recall:     0.7500\n",
      "F1 score:   0.7535\n",
      "===== Iteration: 2 =====\n",
      "### Metric Mix ###\n",
      "TP:      90  20.45%\n",
      "FN:      18   4.09%\n",
      "FP:      25   5.68%\n",
      "TN:     307  69.77%\n",
      "Accuracy:    90.23%\n",
      "Precision:  0.7826\n",
      "Recall:     0.8333\n",
      "F1 score:   0.8072\n",
      "===== Iteration: 3 =====\n",
      "### Metric Mix ###\n",
      "TP:      85  19.36%\n",
      "FN:      22   5.01%\n",
      "FP:      25   5.69%\n",
      "TN:     307  69.93%\n",
      "Accuracy:    89.29%\n",
      "Precision:  0.7727\n",
      "Recall:     0.7944\n",
      "F1 score:   0.7834\n"
     ]
    },
    {
     "name": "stderr",
     "output_type": "stream",
     "text": [
      "C:\\Users\\Admin\\anaconda3\\lib\\site-packages\\sklearn\\utils\\validation.py:67: FutureWarning: Pass shuffle=True as keyword args. From version 0.25 passing these as positional arguments will result in an error\n",
      "  warnings.warn(\"Pass {} as keyword args. From version 0.25 \"\n"
     ]
    }
   ],
   "source": [
    "#Create Model\n",
    "clf = LocalOutlierFactor(n_neighbors = 10, metric = \"minkowski\", novelty=True, contamination='auto')\n",
    "\n",
    "kf = KFold(3, True)\n",
    "t_data = np.array(t.data)\n",
    "a_data = np.array(a.data)\n",
    "iteration_cnt = 0\n",
    "for train_index, test_index in kf.split(t_data):\n",
    "    iteration_cnt += 1\n",
    "    #Train\n",
    "    clf.fit(t_data[train_index])\n",
    "    #Evaluate \n",
    "    y_pred_valid = clf.predict(t_data[test_index])\n",
    "    y_pred_outliers = clf.predict(a.data)\n",
    "    print(\"===== Iteration:\",iteration_cnt,\"=====\")\n",
    "    #print_metrics([1]*len(y_pred_valid),y_pred_valid,label=\"Valid\")\n",
    "    #print_metrics([-1]*len(y_pred_outliers),y_pred_outliers,label=\"Anomaly\")\n",
    "    #Concatenate above results from anomaly and valid dataset for clearer results\n",
    "    print_metrics([1]*len(y_pred_valid)+[-1]*len(y_pred_outliers),np.concatenate((y_pred_valid,y_pred_outliers),axis=None),label=\"Mix\")\n",
    "    score_v = clf.decision_function(t_data[test_index])\n",
    "    score_a = clf.decision_function(a.data)\n",
    "    cnt = 0\n",
    "    for i in score_a:\n",
    "        if i < -10 :\n",
    "            cnt += 1\n",
    "    #print(cnt)\n",
    "    \n",
    "\n"
   ]
  },
  {
   "cell_type": "markdown",
   "metadata": {},
   "source": [
    "### OneClassSVM"
   ]
  },
  {
   "cell_type": "code",
   "execution_count": 43,
   "metadata": {},
   "outputs": [
    {
     "name": "stdout",
     "output_type": "stream",
     "text": [
      "===== Iteration: 1 =====\n",
      "### Metric Mix ###\n",
      "TP:       0   0.00%\n",
      "FN:     108  24.55%\n",
      "FP:       0   0.00%\n",
      "TN:     332  75.45%\n",
      "Accuracy:    75.45%\n",
      "Precision:     nan\n",
      "Recall:     0.0000\n",
      "F1 score:      nan\n",
      "===== Iteration: 2 =====\n",
      "### Metric Mix ###\n",
      "TP:       0   0.00%\n",
      "FN:     108  24.55%\n",
      "FP:       0   0.00%\n",
      "TN:     332  75.45%\n",
      "Accuracy:    75.45%\n",
      "Precision:     nan\n",
      "Recall:     0.0000\n",
      "F1 score:      nan\n",
      "===== Iteration: 3 =====\n",
      "### Metric Mix ###\n",
      "TP:       0   0.00%\n",
      "FN:     107  24.37%\n",
      "FP:       0   0.00%\n",
      "TN:     332  75.63%\n",
      "Accuracy:    75.63%\n",
      "Precision:     nan\n",
      "Recall:     0.0000\n",
      "F1 score:      nan\n"
     ]
    },
    {
     "name": "stderr",
     "output_type": "stream",
     "text": [
      "C:\\Users\\Admin\\anaconda3\\lib\\site-packages\\sklearn\\utils\\validation.py:67: FutureWarning: Pass shuffle=True as keyword args. From version 0.25 passing these as positional arguments will result in an error\n",
      "  warnings.warn(\"Pass {} as keyword args. From version 0.25 \"\n",
      "<ipython-input-36-14693a8a4c43>:16: RuntimeWarning: invalid value encountered in longlong_scalars\n",
      "  prec = tp/(tp+fp)\n",
      "<ipython-input-36-14693a8a4c43>:16: RuntimeWarning: invalid value encountered in longlong_scalars\n",
      "  prec = tp/(tp+fp)\n",
      "<ipython-input-36-14693a8a4c43>:16: RuntimeWarning: invalid value encountered in longlong_scalars\n",
      "  prec = tp/(tp+fp)\n"
     ]
    }
   ],
   "source": [
    "#Create Model\n",
    "clf = OneClassSVM(kernel='sigmoid',gamma=\"auto\",coef0=0.0, nu=0.1)\n",
    "\n",
    "kf = KFold(3, True)\n",
    "t_data = np.array(t.data)\n",
    "a_data = np.array(a.data)\n",
    "iteration_cnt = 0\n",
    "for train_index, test_index in kf.split(t_data):\n",
    "    iteration_cnt += 1\n",
    "    #Train\n",
    "    clf.fit(t_data[train_index])\n",
    "    #Evaluate \n",
    "    y_pred_valid = clf.predict(t_data[test_index])\n",
    "    y_pred_outliers = clf.predict(a.data)\n",
    "    print(\"===== Iteration:\",iteration_cnt,\"=====\")\n",
    "    #print_metrics([1]*len(y_pred_valid),y_pred_valid,label=\"Valid\")\n",
    "    #print_metrics([-1]*len(y_pred_outliers),y_pred_outliers,label=\"Anomaly\")\n",
    "    #Concatenate above results from anomaly and valid dataset for clearer results\n",
    "    print_metrics([1]*len(y_pred_valid)+[-1]*len(y_pred_outliers),np.concatenate((y_pred_valid,y_pred_outliers),axis=None),label=\"Mix\")\n",
    "    \n"
   ]
  },
  {
   "cell_type": "code",
   "execution_count": null,
   "metadata": {},
   "outputs": [],
   "source": []
  },
  {
   "cell_type": "code",
   "execution_count": null,
   "metadata": {},
   "outputs": [],
   "source": []
  }
 ],
 "metadata": {
  "kernelspec": {
   "display_name": "Python 3",
   "language": "python",
   "name": "python3"
  },
  "language_info": {
   "codemirror_mode": {
    "name": "ipython",
    "version": 3
   },
   "file_extension": ".py",
   "mimetype": "text/x-python",
   "name": "python",
   "nbconvert_exporter": "python",
   "pygments_lexer": "ipython3",
   "version": "3.8.5"
  }
 },
 "nbformat": 4,
 "nbformat_minor": 4
}
